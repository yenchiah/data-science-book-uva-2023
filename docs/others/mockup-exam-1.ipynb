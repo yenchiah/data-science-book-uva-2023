{
 "cells": [
  {
   "cell_type": "markdown",
   "id": "ad79338f-5db0-4d7e-bb49-2ba2a50486d6",
   "metadata": {
    "tags": []
   },
   "source": [
    "# Mockup Exam 1"
   ]
  },
  {
   "cell_type": "code",
   "execution_count": 1,
   "id": "01a17de0-a8e7-420b-991f-7e31f8919f3b",
   "metadata": {},
   "outputs": [],
   "source": [
    "import pandas as pd"
   ]
  },
  {
   "cell_type": "markdown",
   "id": "bf4ddaa5-691d-4677-8ce3-89b460fed7a3",
   "metadata": {},
   "source": [
    "## Question 1: One-Hot Encoding"
   ]
  },
  {
   "cell_type": "markdown",
   "id": "f99d9e88-08c7-4e1c-a602-87e636d4b7e2",
   "metadata": {},
   "source": [
    "Given a webpage with unknown number of images and a list of images selected by the users, perform one-hot encoding on the selected image IDs."
   ]
  },
  {
   "cell_type": "code",
   "execution_count": 2,
   "id": "aaed6674-7e9a-4d0c-9166-2d1a448b6bb7",
   "metadata": {},
   "outputs": [
    {
     "data": {
      "text/html": [
       "<div>\n",
       "<style scoped>\n",
       "    .dataframe tbody tr th:only-of-type {\n",
       "        vertical-align: middle;\n",
       "    }\n",
       "\n",
       "    .dataframe tbody tr th {\n",
       "        vertical-align: top;\n",
       "    }\n",
       "\n",
       "    .dataframe thead th {\n",
       "        text-align: right;\n",
       "    }\n",
       "</style>\n",
       "<table border=\"1\" class=\"dataframe\">\n",
       "  <thead>\n",
       "    <tr style=\"text-align: right;\">\n",
       "      <th></th>\n",
       "      <th>image_id_list</th>\n",
       "    </tr>\n",
       "    <tr>\n",
       "      <th>user_id</th>\n",
       "      <th></th>\n",
       "    </tr>\n",
       "  </thead>\n",
       "  <tbody>\n",
       "    <tr>\n",
       "      <th>1</th>\n",
       "      <td>[1, 2, 10]</td>\n",
       "    </tr>\n",
       "    <tr>\n",
       "      <th>2</th>\n",
       "      <td>[1]</td>\n",
       "    </tr>\n",
       "    <tr>\n",
       "      <th>3</th>\n",
       "      <td>[]</td>\n",
       "    </tr>\n",
       "    <tr>\n",
       "      <th>4</th>\n",
       "      <td>[4, 2, 11, 7, 5]</td>\n",
       "    </tr>\n",
       "    <tr>\n",
       "      <th>5</th>\n",
       "      <td>[4, 5, 7, 1]</td>\n",
       "    </tr>\n",
       "    <tr>\n",
       "      <th>6</th>\n",
       "      <td>[1, 4]</td>\n",
       "    </tr>\n",
       "    <tr>\n",
       "      <th>7</th>\n",
       "      <td>[6, 8]</td>\n",
       "    </tr>\n",
       "    <tr>\n",
       "      <th>8</th>\n",
       "      <td>[9, 4, 5]</td>\n",
       "    </tr>\n",
       "  </tbody>\n",
       "</table>\n",
       "</div>"
      ],
      "text/plain": [
       "            image_id_list\n",
       "user_id                  \n",
       "1              [1, 2, 10]\n",
       "2                     [1]\n",
       "3                      []\n",
       "4        [4, 2, 11, 7, 5]\n",
       "5            [4, 5, 7, 1]\n",
       "6                  [1, 4]\n",
       "7                  [6, 8]\n",
       "8               [9, 4, 5]"
      ]
     },
     "execution_count": 2,
     "metadata": {},
     "output_type": "execute_result"
    }
   ],
   "source": [
    "# Below is an example input.\n",
    "data_q1_case1 = [\n",
    "[1, [\"1\",\"2\",\"10\"]],\n",
    "[2, [\"1\"]],\n",
    "[3, []],\n",
    "[4, [\"4\",\"2\",\"11\",\"7\",\"5\"]],\n",
    "[5, [\"4\",\"5\",\"7\",\"1\"]],\n",
    "[6, [\"1\",\"4\"]],\n",
    "[7, [\"6\",\"8\"]],\n",
    "[8, [\"9\",\"4\",\"5\"]]]\n",
    "data_q1_case1 = pd.DataFrame(data=data_q1_case1, columns=[\"user_id\",\"image_id_list\"]).set_index(\"user_id\")\n",
    "data_q1_case1"
   ]
  },
  {
   "cell_type": "code",
   "execution_count": null,
   "id": "4b67b95a-33c0-4e6d-bdef-e51ff488c474",
   "metadata": {},
   "outputs": [],
   "source": []
  }
 ],
 "metadata": {
  "kernelspec": {
   "display_name": "Python 3 (ipykernel)",
   "language": "python",
   "name": "python3"
  },
  "language_info": {
   "codemirror_mode": {
    "name": "ipython",
    "version": 3
   },
   "file_extension": ".py",
   "mimetype": "text/x-python",
   "name": "python",
   "nbconvert_exporter": "python",
   "pygments_lexer": "ipython3",
   "version": "3.10.5"
  }
 },
 "nbformat": 4,
 "nbformat_minor": 5
}
