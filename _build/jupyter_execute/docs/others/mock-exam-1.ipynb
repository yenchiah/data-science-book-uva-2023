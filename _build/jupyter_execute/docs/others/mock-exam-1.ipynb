{
 "cells": [
  {
   "cell_type": "markdown",
   "id": "ad79338f-5db0-4d7e-bb49-2ba2a50486d6",
   "metadata": {
    "tags": []
   },
   "source": [
    "# Mock Exam 1\n",
    "\n",
    "(Last updated: Feb 21, 2023)\n",
    "\n",
    "Notice that this mock exam only contains a part of the real exam. In the real exam, there will be more questions."
   ]
  },
  {
   "cell_type": "markdown",
   "id": "8d01a7c8-8959-4090-9ea0-fd0c4c60507c",
   "metadata": {},
   "source": [
    "**Q1:** Which of the following statements about missing data is **FALSE**?\n",
    "1. Missing Completely At Random (MCAR) means that the missing data is a completely random subset of the entire dataset.\n",
    "2. Missing data can be treated by replacing them with a constant value.\n",
    "3. Missing Not At Random (MNAR) cannot be solved simply with imputation.\n",
    "4. Missing at Random (MAR) means the missing data is related to the variable that has the missing data."
   ]
  },
  {
   "cell_type": "markdown",
   "id": "eb1ec65a-e979-4b2c-8363-90cfb1201f67",
   "metadata": {},
   "source": [
    "**Q2:** Which of the following statements about overfitting is **FALSE**?\n",
    "1. Overfitting means fitting the test data extremely well.\n",
    "2. Overfitting usually happens when using a very complex model.\n",
    "3. We cannot deal with overfitting by simply removing outliers.\n",
    "4. Errors of the model that we trained can be decomposed into bias, variance, and noise. Overfitting usually happens when we train a model with high variance."
   ]
  },
  {
   "cell_type": "markdown",
   "id": "4ff6fdfa-e8cb-491a-925e-194e25bad801",
   "metadata": {},
   "source": [
    "**Q3:** Which of the following statements about the Decision Tree model is **TRUE**?\n",
    "1. Decision Tree can be trained well using entropy as the node-splitting strategy.\n",
    "2. When splitting nodes, Decision Tree cannot use the same feature multiple times.\n",
    "3. Decision Tree cannot be used for the regression task.\n",
    "4. Decision Tree can only handle categorical features."
   ]
  },
  {
   "cell_type": "markdown",
   "id": "fd1cfdea-21b5-4b82-bc6f-1e3c1dd7e0e7",
   "metadata": {},
   "source": [
    "**Q4:** The research team in a municipality wants to use data science to explain how air pollution affects citizens’ living quality in the city. The municipality requires that the model’s decision-making process is as transparent as possible. This means that a researcher can check the model and explain how the model converts an input to an output intuitively. Which of the following algorithms does **NOT** suit the purpose?\n",
    "1. Decision Tree\n",
    "2. Linear Regression\n",
    "3. Logistic regression\n",
    "4. Deep Neural Network"
   ]
  },
  {
   "cell_type": "markdown",
   "id": "72835c03-f3a9-4670-a5f4-a710dd583215",
   "metadata": {},
   "source": [
    "**Q5:** Suppose we flipped a coin 12 times, and we got 10 heads and 2 tails. What is the entropy of the result in this coin-flipping experiment?\n",
    "1. 0.17\n",
    "2. 0.20\n",
    "3. 0.65\n",
    "4. 0.83"
   ]
  },
  {
   "cell_type": "markdown",
   "id": "12c05d2e-f80e-41d2-83e6-7800b874e1b0",
   "metadata": {},
   "source": [
    "**Q6:** Suppose we have an array A of data with 3 columns, and we want to put the data in a pandas data frame. We want to give the first column with name \"C1\", the second column with name \"C2\", and the third column with name \"C3\". Which of the following code produces the desired output for array A (considering that we already imported the pandas package)? For example, the output should look like the following data frame:\n",
    "|  | C1 | C2 | C3 |\n",
    "|---|---|---|---|\n",
    "| 0 | 5 | 21.6 | 100 |\n",
    "| 1 | 11 | 48.3 | 213 |\n",
    "| 2 | 1 | 44.2 | 433 |\n",
    "1. pandas.DataFrame(A, rows=[\"C1\", \"C2\", \"C3\"])\n",
    "2. pandas.DataFrame(A, columns=[\"C1\", \"C2\", \"C3\"])\n",
    "3. pandas.DataFrame(A).set_index([\"C1\", \"C2\", \"C3\"])\n",
    "4. pandas.DataFrame(A, columns=[\"C1\", \"C2\", \"C3\"]).set_index([\"C1\"])"
   ]
  },
  {
   "cell_type": "markdown",
   "id": "63bd1c90-6cfa-41a0-aaed-a14fcbff0032",
   "metadata": {},
   "source": [
    "**Q7:** Suppose we have a pandas data frame D with 100 rows and one column C1. Column C1 has 25% missing data. We want to sum up all valid items in column C1. Which of the following code produces the desired output? For example, if D looks like the data frame below, the code should output 27, which is a sum of 3, 4, and 20.\n",
    "|  | C1 |\n",
    "|---|---|\n",
    "| 0 | NaN |\n",
    "| 1 | 3 |\n",
    "| 2 | 4 |\n",
    "| 3 | 20 |\n",
    "1. D.drop(\"C1\", axis=1).sum()\n",
    "2. D.dropna().sum()[\"C1\"]\n",
    "3. D.sum(\"C1\")\n",
    "4. D.groupby(\"C1\").sum()"
   ]
  },
  {
   "cell_type": "markdown",
   "id": "f88d87ea-debd-4b82-a8cc-c66eb75ed568",
   "metadata": {},
   "source": [
    "# Answers"
   ]
  },
  {
   "cell_type": "markdown",
   "id": "dcbc327c-6c09-408d-8f5c-b8c068aea6c7",
   "metadata": {},
   "source": [
    "The block below contains the answers to the questions."
   ]
  },
  {
   "cell_type": "code",
   "execution_count": 1,
   "id": "b121a32a-8bb0-478b-9a62-673002c84c02",
   "metadata": {
    "tags": [
     "hide-cell"
    ]
   },
   "outputs": [],
   "source": [
    "# Q1 -> 4\n",
    "# Q2 -> 1\n",
    "# Q3 -> 1\n",
    "# Q4 -> 4\n",
    "# Q5 -> 3\n",
    "# Q6 -> 2\n",
    "# Q7 -> 2"
   ]
  },
  {
   "cell_type": "code",
   "execution_count": null,
   "id": "ee147a0c-0a4c-4c0e-b768-45323c4b03b7",
   "metadata": {},
   "outputs": [],
   "source": []
  }
 ],
 "metadata": {
  "kernelspec": {
   "display_name": "Python 3 (ipykernel)",
   "language": "python",
   "name": "python3"
  },
  "language_info": {
   "codemirror_mode": {
    "name": "ipython",
    "version": 3
   },
   "file_extension": ".py",
   "mimetype": "text/x-python",
   "name": "python",
   "nbconvert_exporter": "python",
   "pygments_lexer": "ipython3",
   "version": "3.10.8"
  }
 },
 "nbformat": 4,
 "nbformat_minor": 5
}