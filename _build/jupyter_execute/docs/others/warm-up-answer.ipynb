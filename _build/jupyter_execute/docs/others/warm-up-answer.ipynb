{
 "cells": [
  {
   "cell_type": "markdown",
   "id": "a743071c-c0ec-404b-a1ea-3b408800481a",
   "metadata": {},
   "source": [
    "# Answer: Python Coding Warm-Up"
   ]
  },
  {
   "cell_type": "markdown",
   "id": "bfcdbdf4-a688-4517-9b5c-1af142860c34",
   "metadata": {},
   "source": [
    "(Last updated: Feb 3, 2023)\n",
    "\n",
    "This notebook contains the answer for the [python coding warm-up file](warm-up.ipynb)."
   ]
  },
  {
   "cell_type": "code",
   "execution_count": 1,
   "id": "4da2e4bb-7ae2-4459-8a3e-2954bc1f67ce",
   "metadata": {},
   "outputs": [],
   "source": [
    "import pandas as pd\n",
    "import numpy as np"
   ]
  },
  {
   "cell_type": "code",
   "execution_count": 2,
   "id": "0bd3a6aa-8008-4b77-8cbb-d6deea14966e",
   "metadata": {},
   "outputs": [],
   "source": [
    "def check_answer_df(df_result, df_answer, n=1):\n",
    "    \"\"\"\n",
    "    This function checks if two output dataframes are the same.\n",
    "    \"\"\"\n",
    "    try:\n",
    "        assert df_answer.equals(df_result)\n",
    "        print(\"Test case %d passed.\" % n)\n",
    "    except:\n",
    "        print(\"Test case %d failed.\" % n)\n",
    "        print(\"\")\n",
    "        print(\"Your output is:\")\n",
    "        print(df_result)\n",
    "        print(\"\")\n",
    "        print(\"Expected output is:\")\n",
    "        print(df_answer)"
   ]
  },
  {
   "cell_type": "markdown",
   "id": "b6098e1e-2a36-441e-89bc-17863828f6cb",
   "metadata": {},
   "source": [
    "**Do not check the answers below before practicing the tasks.**"
   ]
  },
  {
   "cell_type": "code",
   "execution_count": 3,
   "id": "6373c08b-5461-4e84-8077-9cba55ed6cde",
   "metadata": {
    "tags": [
     "hide-cell"
    ]
   },
   "outputs": [],
   "source": [
    "def answer_resample_df(df):\n",
    "    \"\"\"\n",
    "    This function is the answer for task 1.\n",
    "    \"\"\"\n",
    "    # Copy to avoid modifying the original dataframe.\n",
    "    df = df.copy(deep=True)\n",
    "\n",
    "    # Convert the timestamp to datetime.\n",
    "    df.index = pd.to_datetime(df.index, unit=\"s\", utc=True)\n",
    "    \n",
    "    # Resample the timestamps by hour and take the average value.\n",
    "    # Because we want data from the past, so label need to be \"right\".\n",
    "    df = df.resample(\"60Min\", label=\"right\").mean()\n",
    "    return df"
   ]
  },
  {
   "cell_type": "code",
   "execution_count": 4,
   "id": "23c33710-0e8a-4b15-b1c8-fcd47eddd39d",
   "metadata": {
    "tags": [
     "hide-cell"
    ]
   },
   "outputs": [],
   "source": [
    "def answer_merge_df(df1, df2):\n",
    "    \"\"\"\n",
    "    This function is the answer for task 2.\n",
    "    \"\"\"\n",
    "    # Copy to avoid modifying the original dataframe.\n",
    "    df1 = df1.copy(deep=True)\n",
    "    df2 = df2.copy(deep=True)\n",
    "    \n",
    "    # Make sure that the index has the same name.\n",
    "    df2.index.name = df1.index.name\n",
    "    \n",
    "    # Merge the two data frames based on the index name.\n",
    "    # We need to use outer merging since we want to preserve data from both data frames.\n",
    "    df = pd.merge_ordered(df1, df2, on=df1.index.name, how=\"outer\", fill_method=None)\n",
    "    \n",
    "    # Move the datetime column to index\n",
    "    df = df.set_index(df1.index.name)\n",
    "    return df"
   ]
  },
  {
   "cell_type": "code",
   "execution_count": 5,
   "id": "22c047c9-190f-4b7e-aeb7-b8a26cd865ec",
   "metadata": {
    "tags": [
     "hide-cell"
    ]
   },
   "outputs": [],
   "source": [
    "def answer_aggregate_df(df):\n",
    "    \"\"\"\n",
    "    This function is the answer for task 3.\n",
    "    \"\"\"\n",
    "    # Copy to avoid modifying the original dataframe.\n",
    "    df = df.copy(deep=True)\n",
    "    \n",
    "    # Filter the data\n",
    "    df = df[(df[\"v1\"]>0)&(df[\"group\"]!=\"15227\")]\n",
    "    \n",
    "    # Aggregate data for each group\n",
    "    all_groups = []\n",
    "    for g, df_g in df.groupby(\"group\"):\n",
    "        # Select only the variable v1.\n",
    "        df_g = df_g[\"v1\"]\n",
    "        # Resample data using your code (or the answer) for task 1\n",
    "        df_g = answer_resample_df(df_g)\n",
    "        # Set the dataframe's name to the group value\n",
    "        df_g.name = g\n",
    "        # Save the group in an array\n",
    "        all_groups.append(df_g)\n",
    "        \n",
    "    # Merge all groups using your code (or the answer) for task 2\n",
    "    df = all_groups.pop(0)\n",
    "    while len(all_groups) != 0:\n",
    "        df = answer_merge_df(df, all_groups.pop(0))\n",
    "    \n",
    "    # Fill in the missing data with value -1\n",
    "    df = df.fillna(0)\n",
    "    return df"
   ]
  },
  {
   "cell_type": "code",
   "execution_count": 6,
   "id": "f36a30ff-163d-4367-9763-b903dd4e7b34",
   "metadata": {
    "tags": [
     "hide-cell"
    ]
   },
   "outputs": [],
   "source": [
    "def answer_transform_df(df):\n",
    "    \"\"\"\n",
    "    This function is the answer for task 4.\n",
    "    \"\"\"\n",
    "    # Copy to avoid modifying the original dataframe.\n",
    "    df = df.copy(deep=True)\n",
    "    \n",
    "    # Define the function to process wind speed\n",
    "    def process_wind_mph(x):\n",
    "        if pd.isna(x):\n",
    "            return None\n",
    "        else:\n",
    "            return x<5\n",
    "    \n",
    "    # Add the transformed columns.\n",
    "    df[\"wind_deg_sine\"] = np.sin(np.deg2rad(df[\"wind_deg\"]))\n",
    "    df[\"wind_deg_cosine\"] = np.cos(np.deg2rad(df[\"wind_deg\"]))\n",
    "    df[\"is_calm_wind\"] = df[\"wind_mph\"].apply(process_wind_mph)\n",
    "    \n",
    "    # Delete the original columns.\n",
    "    df = df.drop([\"wind_deg\"], axis=1)\n",
    "    df = df.drop([\"wind_mph\"], axis=1)\n",
    "    return df"
   ]
  },
  {
   "cell_type": "code",
   "execution_count": 7,
   "id": "f96706e0-384b-49fd-8243-c687321822c2",
   "metadata": {
    "tags": [
     "hide-cell"
    ]
   },
   "outputs": [],
   "source": [
    "def answer_transform_text_df(df):\n",
    "    \"\"\"\n",
    "    This function is the answer for task 5.\n",
    "    \"\"\"\n",
    "    # Copy to avoid modifying the original dataframe.\n",
    "    df = df.copy(deep=True)\n",
    "    \n",
    "    # Process the required columns.\n",
    "    df[\"CV\"] = df[\"venue\"].str.contains(\"BMVC|WACV|ICCV|CVPR\")\n",
    "    df[\"ML\"] = df[\"venue\"].str.contains(\"NeurIPS|ICLR\")\n",
    "    df[\"MM\"] = df[\"venue\"].str.contains(\"MM\")\n",
    "    df[\"year\"] = df[\"venue\"].str.extract(r'([0-9]{4})')\n",
    "    \n",
    "    # Delete the venue columns\n",
    "    df = df.drop([\"venue\"], axis=1)\n",
    "    return df"
   ]
  }
 ],
 "metadata": {
  "kernelspec": {
   "display_name": "Python 3 (ipykernel)",
   "language": "python",
   "name": "python3"
  },
  "language_info": {
   "codemirror_mode": {
    "name": "ipython",
    "version": 3
   },
   "file_extension": ".py",
   "mimetype": "text/x-python",
   "name": "python",
   "nbconvert_exporter": "python",
   "pygments_lexer": "ipython3",
   "version": "3.10.8"
  }
 },
 "nbformat": 4,
 "nbformat_minor": 5
}