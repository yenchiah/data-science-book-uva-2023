{
 "cells": [
  {
   "cell_type": "markdown",
   "id": "462ee0dc-ec13-43c1-ba7e-aaca77552387",
   "metadata": {
    "id": "462ee0dc-ec13-43c1-ba7e-aaca77552387"
   },
   "source": [
    "# An Ancient Text\n",
    "\n",
    "(Last updated: Mar 14, 2023)[^credit]\n",
    "\n",
    "[^credit]: Credit: this teaching material is created by Bryan Fleming under the supervision of [Yen-Chia Hsu](https://github.com/yenchiah).\n",
    "\n",
    "Here is an online version of [this notebook in Google Colab](https://colab.research.google.com/drive/17eDq0aIYNRipcjpZ6SApMUtcCPpyOvlQ?usp=sharing). This online version is just for browsing. To work on this notebook, you need to copy a new one to your own Google Colab.\n",
    "\n",
    "This tutorial will guide you through the entire pipeline for training an image classifier using PyTorch and deep neural networks."
   ]
  },
  {
   "cell_type": "code",
   "execution_count": null,
   "id": "a3e16f98-c487-4459-adeb-1f20660d746d",
   "metadata": {
    "colab": {
     "base_uri": "https://localhost:8080/"
    },
    "id": "a3e16f98-c487-4459-adeb-1f20660d746d",
    "outputId": "11661bcc-6968-4079-9661-ccaa37dd3abc",
    "tags": []
   },
   "outputs": [
    {
     "name": "stdout",
     "output_type": "stream",
     "text": [
      "Looking in indexes: https://pypi.org/simple, https://us-python.pkg.dev/colab-wheels/public/simple/\n",
      "Collecting torchviz\n",
      "  Downloading torchviz-0.0.2.tar.gz (4.9 kB)\n",
      "  Preparing metadata (setup.py) ... \u001b[?25l\u001b[?25hdone\n",
      "Requirement already satisfied: torch in /usr/local/lib/python3.9/dist-packages (from torchviz) (1.13.1+cu116)\n",
      "Requirement already satisfied: graphviz in /usr/local/lib/python3.9/dist-packages (from torchviz) (0.10.1)\n",
      "Requirement already satisfied: typing-extensions in /usr/local/lib/python3.9/dist-packages (from torch->torchviz) (4.5.0)\n",
      "Building wheels for collected packages: torchviz\n",
      "  Building wheel for torchviz (setup.py) ... \u001b[?25l\u001b[?25hdone\n",
      "  Created wheel for torchviz: filename=torchviz-0.0.2-py3-none-any.whl size=4151 sha256=536046ef1e32c4d5903876699ecb4c9c0f6e1f3ba47714bdcfeb92e22896f894\n",
      "  Stored in directory: /root/.cache/pip/wheels/29/65/6e/db2515eb1dc760fecd36b40d54df65c1e18534013f1c037e2e\n",
      "Successfully built torchviz\n",
      "Installing collected packages: torchviz\n",
      "Successfully installed torchviz-0.0.2\n"
     ]
    }
   ],
   "source": [
    "!pip install torchviz"
   ]
  },
  {
   "cell_type": "code",
   "execution_count": null,
   "id": "c40437e6-aa3a-4295-9494-a7073a620adb",
   "metadata": {
    "colab": {
     "base_uri": "https://localhost:8080/"
    },
    "id": "c40437e6-aa3a-4295-9494-a7073a620adb",
    "outputId": "e9dd4b77-4919-4208-d97d-48eb8f43f7cb"
   },
   "outputs": [
    {
     "name": "stdout",
     "output_type": "stream",
     "text": [
      "Looking in indexes: https://pypi.org/simple, https://us-python.pkg.dev/colab-wheels/public/simple/\n",
      "Requirement already satisfied: torch in /usr/local/lib/python3.9/dist-packages (1.13.1+cu116)\n",
      "Requirement already satisfied: typing-extensions in /usr/local/lib/python3.9/dist-packages (from torch) (4.5.0)\n"
     ]
    }
   ],
   "source": [
    "!pip install torch"
   ]
  },
  {
   "cell_type": "code",
   "execution_count": null,
   "id": "59c1caef-764e-48d7-9fe3-fbe0c72de003",
   "metadata": {
    "colab": {
     "base_uri": "https://localhost:8080/"
    },
    "id": "59c1caef-764e-48d7-9fe3-fbe0c72de003",
    "outputId": "97a9204a-a7d7-4d62-dbbd-e2aaf42308b0"
   },
   "outputs": [
    {
     "name": "stdout",
     "output_type": "stream",
     "text": [
      "Looking in indexes: https://pypi.org/simple, https://us-python.pkg.dev/colab-wheels/public/simple/\n",
      "Requirement already satisfied: pydot in /usr/local/lib/python3.9/dist-packages (1.3.0)\n",
      "Requirement already satisfied: pyparsing>=2.1.4 in /usr/local/lib/python3.9/dist-packages (from pydot) (3.0.9)\n"
     ]
    }
   ],
   "source": [
    "!pip install pydot"
   ]
  },
  {
   "cell_type": "code",
   "execution_count": null,
   "id": "dd38b06b-738b-44b9-b81d-29d99d464d16",
   "metadata": {
    "colab": {
     "base_uri": "https://localhost:8080/"
    },
    "id": "dd38b06b-738b-44b9-b81d-29d99d464d16",
    "outputId": "ae1ab7d6-b8df-4ad7-9fb0-58099c8afe3c"
   },
   "outputs": [
    {
     "name": "stdout",
     "output_type": "stream",
     "text": [
      "Looking in indexes: https://pypi.org/simple, https://us-python.pkg.dev/colab-wheels/public/simple/\n",
      "Requirement already satisfied: pydotplus in /usr/local/lib/python3.9/dist-packages (2.0.2)\n",
      "Requirement already satisfied: pyparsing>=2.0.1 in /usr/local/lib/python3.9/dist-packages (from pydotplus) (3.0.9)\n"
     ]
    }
   ],
   "source": [
    "!pip install pydotplus"
   ]
  },
  {
   "cell_type": "code",
   "execution_count": null,
   "id": "44f3108e-276b-41b4-adf1-d09e10b92832",
   "metadata": {
    "id": "44f3108e-276b-41b4-adf1-d09e10b92832"
   },
   "outputs": [],
   "source": [
    "# Import Libraries\n",
    "\n",
    "import torch\n",
    "import torch.nn as nn\n",
    "import torch.optim as optim\n",
    "import torchvision.datasets as datasets\n",
    "import torchvision.transforms as transforms\n",
    "import torchvision.utils as utils\n",
    "from torch.autograd import Variable\n",
    "from torchviz import make_dot\n",
    "from IPython.display import Image\n",
    "import base64\n",
    "import matplotlib.pyplot as plt\n",
    "import warnings\n",
    "from IPython.display import HTML"
   ]
  },
  {
   "cell_type": "markdown",
   "id": "Gp2xtFCPoN0t",
   "metadata": {
    "id": "Gp2xtFCPoN0t"
   },
   "source": [
    "**First, you need to enable GPUs for the notebook in Google Colab:**\n",
    "\n",
    "- Navigate to Edit→Notebook Settings\n",
    "- Select GPU from the Hardware Accelerator drop-down"
   ]
  },
  {
   "cell_type": "code",
   "execution_count": null,
   "id": "3DdbJgxFnHEl",
   "metadata": {
    "colab": {
     "base_uri": "https://localhost:8080/"
    },
    "id": "3DdbJgxFnHEl",
    "outputId": "5c2cd8ed-2397-4045-e96c-e548bb037e95"
   },
   "outputs": [
    {
     "data": {
      "text/plain": [
       "device(type='cuda')"
      ]
     },
     "execution_count": 6,
     "metadata": {},
     "output_type": "execute_result"
    }
   ],
   "source": [
    "if torch.cuda.is_available():\n",
    "    device = torch.device(\"cuda\")          # use CUDA device\n",
    "else:\n",
    "    device = torch.device(\"cpu\")           # use CPU device\n",
    "device"
   ]
  },
  {
   "cell_type": "markdown",
   "id": "FALmjCYY1SOA",
   "metadata": {
    "id": "FALmjCYY1SOA"
   },
   "source": [
    "Make sure that the ouput from the above cell is `device(type='cuda')`. If you see `device(type='cpu')`, it means that you did not enable GPU usage on Google Colab. Go to [this page](https://web.eecs.umich.edu/~justincj/teaching/eecs442/WI2021/colab.html) and check the \"Use GPU as an accelerator\" part for details. Please be patient for this tutorial and the assignment, as training neural networks for Computer Vision tasks typically takes a lot of time."
   ]
  },
  {
   "cell_type": "markdown",
   "id": "Hg8-bJuI7yLN",
   "metadata": {
    "id": "Hg8-bJuI7yLN"
   },
   "source": [
    "## Scenario"
   ]
  },
  {
   "cell_type": "markdown",
   "id": "p_D8B7vpga0W",
   "metadata": {
    "id": "p_D8B7vpga0W"
   },
   "source": [
    "![](https://github.com/MultiX-Amsterdam/image-data-module/blob/main/images/tablet.jpg?raw=true)\n",
    "\n",
    "Image source -- https://www.istockphoto.com/nl/foto/ancient-text-gm139879372-1545295"
   ]
  },
  {
   "cell_type": "markdown",
   "id": "3afaa7b9-63a0-4bab-875a-e873f7082a1b",
   "metadata": {
    "id": "3afaa7b9-63a0-4bab-875a-e873f7082a1b"
   },
   "source": [
    "As an aspiring machine learning enthusiast, you have been presented with a unique challenge. A team of archeologists has discovered an ancient text written on a mysterious tablet that nobody has ever seen before. The script on this is so complex that no one has been able to decipher it, even after months of studying it.\n",
    "\n",
    "However, you have a hunch that machine learning could be used to decipher the tablets script. You have been tasked with converting the ancient script into a string of modern numbers, as it is suspected to be some kind of Mathematical Algorithm - you're tasked with turning the script into a dataset that can be used to train a machine learning model. To do this, you will need to organize the ancient symbols into 10 classes, one for each digit, and label them accordingly.\n",
    "\n",
    "To train the machine learning model, you will be using the MNIST dataset, which is a well-known benchmark dataset for image classification. Once you have organized the ancient symbols into classes, you can use the MNIST dataset to train the machine learning model to recognize the symbols.\n",
    "\n",
    "With the help of the machine learning model, your colleagues will be able to classify the symbols in the ancient text and decipher the secrets of an ancient civilization that have been lost for centuries. This task requires creativity, persistence, and attention to detail, but with the power of machine learning, you have the opportunity to unlock a new understanding of an ancient culture and make a significant contribution to the field of archeology.\n",
    "\n",
    "You will be provided with all the sufficient resources to carry out this task, good luck!"
   ]
  },
  {
   "cell_type": "markdown",
   "id": "487e2e40-5ef8-4ab4-8f27-d630a0ef086c",
   "metadata": {
    "id": "487e2e40-5ef8-4ab4-8f27-d630a0ef086c"
   },
   "source": [
    "## A Simple Linear Algorithm"
   ]
  },
  {
   "cell_type": "markdown",
   "id": "E58XKecGuY22",
   "metadata": {
    "id": "E58XKecGuY22"
   },
   "source": [
    "This notebook will help you understand and create an algorithm which will learn how to recognise ancient symbols, and convert them to the modern decimal system, your colleagues will then have the task of converting the rest of the symbols to other modern mathematical operators, with the end goal of discovering the secrets of this Ancient Civilization."
   ]
  },
  {
   "cell_type": "markdown",
   "id": "6e799731-8314-44da-8008-a295703d425a",
   "metadata": {
    "id": "6e799731-8314-44da-8008-a295703d425a"
   },
   "source": [
    "Below we will lay out the code for a simple, 1-layer linear network, whose goal is to classify the ancient digits, using our modern decimal system:"
   ]
  },
  {
   "cell_type": "code",
   "execution_count": null,
   "id": "16d1180f-1ae5-4ae9-a616-3d33af35157e",
   "metadata": {
    "id": "16d1180f-1ae5-4ae9-a616-3d33af35157e"
   },
   "outputs": [],
   "source": [
    "# First, we define the transforms for the data.\n",
    "\n",
    "transforms = transforms.Compose([\n",
    "    transforms.ToTensor(), # this converts our data convert to torch tensor\n",
    "    transforms.Normalize((0.1307,), (0.3081,)) # normalize the data, these are the Mean and STD of this dataset respectively\n",
    "])"
   ]
  },
  {
   "cell_type": "code",
   "execution_count": null,
   "id": "616d187c-02e2-4337-9086-c6eaee243dd8",
   "metadata": {
    "colab": {
     "base_uri": "https://localhost:8080/",
     "height": 431,
     "referenced_widgets": [
      "42e3568d70e249cf8565940af5371fd0",
      "89ae7fd98c5244de9850cd36b04da6f5",
      "7a9c3743591646e5926b30795f5255af",
      "044dc2728db743f7998477d8b854b882",
      "aa2f6bfaff6e4e329e1106ee651bc683",
      "13dd57255cb44a00b250e14fea71334c",
      "18a576f9ca8941d6967dd276a330739f",
      "59ee14528af1442f8c5b7b70d9d36754",
      "480681dff8c2447699d8588e4280d7ce",
      "294ca70d7a7c4ef1a15237d3d5ea62a1",
      "6ef14f1a6f02482cb47067edeeb193b0",
      "63121ac976c3408b823e13ec361fd05a",
      "fca6b8f548b848aea76b33d9001bf9e5",
      "8baad0d581944c8192bfd95e04d36ff0",
      "ccc733b0dde4429baed5715af615c2d6",
      "9d456f704b8c443daa24cc299ee1a596",
      "30b07821143641e29026cb33511757b8",
      "91f3bc9488224c3d84a89d1a76636cd4",
      "618165c5b4a84676821b7f7be9fabf77",
      "9f623fd15a944eb4878fb2ee4ba36f23",
      "8a2560a8d89c44f8a29891bc0fdb78e0",
      "f13492ec1e934c61925f18e96d92fbab",
      "7d75fcab97fb4455b2e4f089d6b8493b",
      "b98f6e1c828245208dd02e347d5a8a68",
      "b853e595cbef4fcaa7d3df3ba0c8dd78",
      "ac27b353edc9426b9a636b4db59654db",
      "7b7dfefdf58a46e8aa7e9ae18ecaa4f0",
      "012a23fe08874a5ca4ff053b4bee5d46",
      "ccd6103a58984a3eb553b2affb31a10a",
      "8d799072efd0405d8b748b28046ae948",
      "6106adfeb9ae434da2d5ceb1ec7b424a",
      "cfde86c70b5e41a28005c1474d23f8f2",
      "cd39e826eb8f4e929119a0996b91056d",
      "f279aadaf5394481aa5c8489e6c72be0",
      "05cc5d3ccc734c9abb29a9e097394c19",
      "f8cb56eaacf74dd6b38b389f069425a7",
      "245a39a35a3245be825e80a035e2047e",
      "7c3930139a754552a5e0116661229193",
      "8b0e397c11054f7ab874c6087cd37a71",
      "86e2e496f08a4e64b4f5e308ef5926f2",
      "1e2e14ff22794aeeb2eade30b94d372d",
      "2c9d6cc69cf14783a90d7316fcf6d361",
      "080b0554038948eeaca1f54bb49dd6ce",
      "81f29a1401834a08a13921a466eff5d7"
     ]
    },
    "id": "616d187c-02e2-4337-9086-c6eaee243dd8",
    "outputId": "d58ea8be-ce85-49ea-ac8a-8e962e6faa1c"
   },
   "outputs": [
    {
     "name": "stdout",
     "output_type": "stream",
     "text": [
      "Downloading http://yann.lecun.com/exdb/mnist/train-images-idx3-ubyte.gz\n",
      "Downloading http://yann.lecun.com/exdb/mnist/train-images-idx3-ubyte.gz to ./data/MNIST/raw/train-images-idx3-ubyte.gz\n"
     ]
    },
    {
     "data": {
      "application/vnd.jupyter.widget-view+json": {
       "model_id": "42e3568d70e249cf8565940af5371fd0",
       "version_major": 2,
       "version_minor": 0
      },
      "text/plain": [
       "  0%|          | 0/9912422 [00:00<?, ?it/s]"
      ]
     },
     "metadata": {},
     "output_type": "display_data"
    },
    {
     "name": "stdout",
     "output_type": "stream",
     "text": [
      "Extracting ./data/MNIST/raw/train-images-idx3-ubyte.gz to ./data/MNIST/raw\n",
      "\n",
      "Downloading http://yann.lecun.com/exdb/mnist/train-labels-idx1-ubyte.gz\n",
      "Downloading http://yann.lecun.com/exdb/mnist/train-labels-idx1-ubyte.gz to ./data/MNIST/raw/train-labels-idx1-ubyte.gz\n"
     ]
    },
    {
     "data": {
      "application/vnd.jupyter.widget-view+json": {
       "model_id": "63121ac976c3408b823e13ec361fd05a",
       "version_major": 2,
       "version_minor": 0
      },
      "text/plain": [
       "  0%|          | 0/28881 [00:00<?, ?it/s]"
      ]
     },
     "metadata": {},
     "output_type": "display_data"
    },
    {
     "name": "stdout",
     "output_type": "stream",
     "text": [
      "Extracting ./data/MNIST/raw/train-labels-idx1-ubyte.gz to ./data/MNIST/raw\n",
      "\n",
      "Downloading http://yann.lecun.com/exdb/mnist/t10k-images-idx3-ubyte.gz\n",
      "Downloading http://yann.lecun.com/exdb/mnist/t10k-images-idx3-ubyte.gz to ./data/MNIST/raw/t10k-images-idx3-ubyte.gz\n"
     ]
    },
    {
     "data": {
      "application/vnd.jupyter.widget-view+json": {
       "model_id": "7d75fcab97fb4455b2e4f089d6b8493b",
       "version_major": 2,
       "version_minor": 0
      },
      "text/plain": [
       "  0%|          | 0/1648877 [00:00<?, ?it/s]"
      ]
     },
     "metadata": {},
     "output_type": "display_data"
    },
    {
     "name": "stdout",
     "output_type": "stream",
     "text": [
      "Extracting ./data/MNIST/raw/t10k-images-idx3-ubyte.gz to ./data/MNIST/raw\n",
      "\n",
      "Downloading http://yann.lecun.com/exdb/mnist/t10k-labels-idx1-ubyte.gz\n",
      "Downloading http://yann.lecun.com/exdb/mnist/t10k-labels-idx1-ubyte.gz to ./data/MNIST/raw/t10k-labels-idx1-ubyte.gz\n"
     ]
    },
    {
     "data": {
      "application/vnd.jupyter.widget-view+json": {
       "model_id": "f279aadaf5394481aa5c8489e6c72be0",
       "version_major": 2,
       "version_minor": 0
      },
      "text/plain": [
       "  0%|          | 0/4542 [00:00<?, ?it/s]"
      ]
     },
     "metadata": {},
     "output_type": "display_data"
    },
    {
     "name": "stdout",
     "output_type": "stream",
     "text": [
      "Extracting ./data/MNIST/raw/t10k-labels-idx1-ubyte.gz to ./data/MNIST/raw\n",
      "\n"
     ]
    }
   ],
   "source": [
    "# Next we will load the MNIST dataset, which we use to train the network.\n",
    "# NOTE: In the assignment, we will not use a dataset in this library, so we will show you alternate methods to load a dataset.\n",
    "\n",
    "trainset = datasets.MNIST(root='./data', train=True, download=True, transform=transforms)\n",
    "testset = datasets.MNIST(root='./data', train=False, download=True, transform=transforms)"
   ]
  },
  {
   "cell_type": "code",
   "execution_count": null,
   "id": "4467a64c-7037-452f-9185-4aab8990b36d",
   "metadata": {
    "id": "4467a64c-7037-452f-9185-4aab8990b36d"
   },
   "outputs": [],
   "source": [
    "# Next we define the dataloaders.\n",
    "\n",
    "trainloader = torch.utils.data.DataLoader(trainset, batch_size=64, shuffle=True)\n",
    "testloader = torch.utils.data.DataLoader(testset, batch_size=64, shuffle=False)"
   ]
  },
  {
   "cell_type": "code",
   "execution_count": null,
   "id": "658081c3-cf5a-4205-90ad-332c48500225",
   "metadata": {
    "colab": {
     "base_uri": "https://localhost:8080/",
     "height": 219
    },
    "id": "658081c3-cf5a-4205-90ad-332c48500225",
    "outputId": "4ff2c309-6cd6-4829-de9b-f3c30f21da9d"
   },
   "outputs": [
    {
     "name": "stderr",
     "output_type": "stream",
     "text": [
      "WARNING:matplotlib.image:Clipping input data to the valid range for imshow with RGB data ([0..1] for floats or [0..255] for integers).\n"
     ]
    },
    {
     "data": {
      "image/png": "[encoded data removed]",
      "text/plain": [
       "<Figure size 720x360 with 1 Axes>"
      ]
     },
     "metadata": {
      "filenames": {
       "image/png": "/Users/ych/Sites/data-science-book-uva/_build/jupyter_execute/docs/modules/image-data-module/tutorial-image-data-notebook_18_1.png"
      }
     },
     "output_type": "display_data"
    }
   ],
   "source": [
    "# Visualizing the Data:\n",
    "\n",
    "warnings.filterwarnings(\"ignore\")\n",
    "\n",
    "# Load the MNIST dataset and apply normalization\n",
    "mnist_data = datasets.MNIST(root='./data', train=True, transform=transforms, download=True)\n",
    "data_loader = torch.utils.data.DataLoader(mnist_data, batch_size=4, shuffle=True)\n",
    "\n",
    "# Display a batch of images\n",
    "for images, labels in data_loader:\n",
    "    # Create a grid of images\n",
    "    grid_image = utils.make_grid(images, nrow=4).permute(1, 2, 0)\n",
    "    \n",
    "    # Center the label text\n",
    "    label_text = [str(label.item()).center(4) for label in labels]\n",
    "    \n",
    "    # Display the image grid and labels\n",
    "    fig, ax = plt.subplots(figsize=(10, 5))\n",
    "    ax.imshow(grid_image, cmap='gray', vmin=-1, vmax=1)\n",
    "    ax.set_xticks([])\n",
    "    ax.set_yticks([])\n",
    "    for i in range(min(4, len(label_text))):\n",
    "        # Calculate the position of the label text\n",
    "        x = (2 * i + 1) * grid_image.shape[1] // 8\n",
    "        y = grid_image.shape[0] // 32\n",
    "        \n",
    "        # Add the label text to the image\n",
    "        ax.text(x, y, label_text[i], color='red', fontsize=14, fontweight='bold', ha='center', va='top')\n",
    "    \n",
    "    plt.show()\n",
    "    break"
   ]
  },
  {
   "cell_type": "code",
   "execution_count": null,
   "id": "c5e6c6c1-740e-4f3c-9652-32168dbed9fa",
   "metadata": {
    "id": "c5e6c6c1-740e-4f3c-9652-32168dbed9fa"
   },
   "outputs": [],
   "source": [
    "# Now we define the Networks 'architecture', this is essentially the Algorithm you've heard so much about.\n",
    "\n",
    "class VerySimpleNet(nn.Module):\n",
    "    def __init__(self):\n",
    "        super(VerySimpleNet, self).__init__()\n",
    "        # The thing to focus on is the self.fc1 - and how we define this transformation.\n",
    "        # It is a linear function of size 28*28, due to the image's pixels, and also 10 after, as there is 10 classes.\n",
    "        self.fc1 = nn.Linear(28*28, 10)\n",
    "    \n",
    "    def forward(self, x):\n",
    "        x = torch.flatten(x, 1)\n",
    "        x = self.fc1(x)\n",
    "        output = nn.functional.log_softmax(x, dim=1)\n",
    "        return output\n",
    "\n",
    "# Here you see how the model evolves, flattening the tensor, putting our data through the linear function, and outputting a classification via log_softmax."
   ]
  },
  {
   "cell_type": "code",
   "execution_count": null,
   "id": "cae913fb-df7a-42fd-8061-3f708e3801ab",
   "metadata": {
    "colab": {
     "base_uri": "https://localhost:8080/",
     "height": 538
    },
    "id": "cae913fb-df7a-42fd-8061-3f708e3801ab",
    "outputId": "63bc326b-790a-49be-a313-ea2e9fc5a27d"
   },
   "outputs": [
    {
     "data": {
      "image/png": "[encoded data removed]",
      "text/plain": [
       "<IPython.core.display.Image object>"
      ]
     },
     "execution_count": 12,
     "metadata": {
      "filenames": {
       "image/png": "/Users/ych/Sites/data-science-book-uva/_build/jupyter_execute/docs/modules/image-data-module/tutorial-image-data-notebook_20_0.png"
      }
     },
     "output_type": "execute_result"
    }
   ],
   "source": [
    "# Now we will do what we call 'initializing' the network and optimizer, we effectively tell it how to 'learn', to correct itself by changing the weights of nodes in the network with what we call a loss function.\n",
    "\n",
    "net = VerySimpleNet()\n",
    "criterion = nn.NLLLoss()\n",
    "optimizer = optim.SGD(net.parameters(), lr=0.01, momentum=0.9)\n",
    "\n",
    "# We wish to visualize:\n",
    "# Create a sample input tensor\n",
    "x = torch.randn(1, 1, 28, 28)\n",
    "x = Variable(x)\n",
    "# Pass the input tensor through the network and calculate the output\n",
    "y = net(x)\n",
    "\n",
    "# Create a visualization of the computation graph\n",
    "dot = make_dot(y.mean(), params=dict(net.named_parameters()))\n",
    "dot.format = 'png'\n",
    "dot.render(filename='net_graph1')\n",
    "\n",
    "# Display the computation graph in Jupyter Notebook\n",
    "Image(filename='net_graph1.png')"
   ]
  },
  {
   "cell_type": "code",
   "execution_count": null,
   "id": "ee1d67e0-175b-46ea-82ce-8d3aec2e8efc",
   "metadata": {
    "colab": {
     "base_uri": "https://localhost:8080/"
    },
    "id": "ee1d67e0-175b-46ea-82ce-8d3aec2e8efc",
    "outputId": "8d9c12be-f464-488e-b3b3-9891fb3c9090",
    "tags": [
     "output_scroll"
    ]
   },
   "outputs": [
    {
     "name": "stdout",
     "output_type": "stream",
     "text": [
      "[1,   100] loss: 0.563\n",
      "[1,   200] loss: 0.371\n",
      "[1,   300] loss: 0.332\n",
      "[1,   400] loss: 0.330\n",
      "[1,   500] loss: 0.329\n",
      "[1,   600] loss: 0.353\n",
      "[1,   700] loss: 0.335\n",
      "[1,   800] loss: 0.321\n",
      "[1,   900] loss: 0.335\n",
      "[2,   100] loss: 0.290\n",
      "[2,   200] loss: 0.311\n",
      "[2,   300] loss: 0.309\n",
      "[2,   400] loss: 0.296\n",
      "[2,   500] loss: 0.318\n",
      "[2,   600] loss: 0.326\n",
      "[2,   700] loss: 0.304\n",
      "[2,   800] loss: 0.298\n",
      "[2,   900] loss: 0.317\n",
      "[3,   100] loss: 0.285\n",
      "[3,   200] loss: 0.316\n",
      "[3,   300] loss: 0.304\n",
      "[3,   400] loss: 0.295\n",
      "[3,   500] loss: 0.304\n",
      "[3,   600] loss: 0.301\n",
      "[3,   700] loss: 0.306\n",
      "[3,   800] loss: 0.272\n",
      "[3,   900] loss: 0.299\n",
      "[4,   100] loss: 0.289\n",
      "[4,   200] loss: 0.272\n",
      "[4,   300] loss: 0.302\n",
      "[4,   400] loss: 0.303\n",
      "[4,   500] loss: 0.302\n",
      "[4,   600] loss: 0.313\n",
      "[4,   700] loss: 0.284\n",
      "[4,   800] loss: 0.276\n",
      "[4,   900] loss: 0.285\n",
      "[5,   100] loss: 0.248\n",
      "[5,   200] loss: 0.291\n",
      "[5,   300] loss: 0.288\n",
      "[5,   400] loss: 0.300\n",
      "[5,   500] loss: 0.310\n",
      "[5,   600] loss: 0.282\n",
      "[5,   700] loss: 0.312\n",
      "[5,   800] loss: 0.274\n",
      "[5,   900] loss: 0.285\n",
      "[6,   100] loss: 0.276\n",
      "[6,   200] loss: 0.287\n",
      "[6,   300] loss: 0.262\n",
      "[6,   400] loss: 0.265\n",
      "[6,   500] loss: 0.313\n",
      "[6,   600] loss: 0.281\n",
      "[6,   700] loss: 0.283\n",
      "[6,   800] loss: 0.311\n",
      "[6,   900] loss: 0.285\n",
      "[7,   100] loss: 0.268\n",
      "[7,   200] loss: 0.289\n",
      "[7,   300] loss: 0.274\n",
      "[7,   400] loss: 0.283\n",
      "[7,   500] loss: 0.271\n",
      "[7,   600] loss: 0.294\n",
      "[7,   700] loss: 0.256\n",
      "[7,   800] loss: 0.304\n",
      "[7,   900] loss: 0.297\n",
      "[8,   100] loss: 0.263\n",
      "[8,   200] loss: 0.291\n",
      "[8,   300] loss: 0.261\n",
      "[8,   400] loss: 0.273\n",
      "[8,   500] loss: 0.298\n",
      "[8,   600] loss: 0.310\n",
      "[8,   700] loss: 0.279\n",
      "[8,   800] loss: 0.268\n",
      "[8,   900] loss: 0.285\n",
      "[9,   100] loss: 0.274\n",
      "[9,   200] loss: 0.267\n",
      "[9,   300] loss: 0.263\n",
      "[9,   400] loss: 0.279\n",
      "[9,   500] loss: 0.273\n",
      "[9,   600] loss: 0.301\n",
      "[9,   700] loss: 0.279\n",
      "[9,   800] loss: 0.284\n",
      "[9,   900] loss: 0.263\n",
      "[10,   100] loss: 0.233\n",
      "[10,   200] loss: 0.277\n",
      "[10,   300] loss: 0.284\n",
      "[10,   400] loss: 0.294\n",
      "[10,   500] loss: 0.281\n",
      "[10,   600] loss: 0.290\n",
      "[10,   700] loss: 0.290\n",
      "[10,   800] loss: 0.268\n",
      "[10,   900] loss: 0.279\n",
      "Finished training\n"
     ]
    }
   ],
   "source": [
    "# Now we actually train the network, so we can test it's effectiveness.\n",
    "\n",
    "for epoch in range(10):\n",
    "    running_loss = 0.0\n",
    "    for i, data in enumerate(trainloader, 0):\n",
    "        inputs, labels = data\n",
    "        optimizer.zero_grad()\n",
    "        outputs = net(inputs)\n",
    "        loss = criterion(outputs, labels)\n",
    "        loss.backward()\n",
    "        optimizer.step()\n",
    "        running_loss += loss.item()\n",
    "        if i % 100 == 99:\n",
    "            print('[%d, %5d] loss: %.3f' %\n",
    "                  (epoch + 1, i + 1, running_loss / 100))\n",
    "            running_loss = 0.0\n",
    "\n",
    "print('Finished training')"
   ]
  },
  {
   "cell_type": "code",
   "execution_count": null,
   "id": "f2b95ea1-16f4-4cf9-b729-9c96c69d8d32",
   "metadata": {
    "colab": {
     "base_uri": "https://localhost:8080/"
    },
    "id": "f2b95ea1-16f4-4cf9-b729-9c96c69d8d32",
    "outputId": "747e978c-9f53-4ac4-8061-e33df40be924"
   },
   "outputs": [
    {
     "name": "stdout",
     "output_type": "stream",
     "text": [
      "Accuracy on the test set: 91 %\n"
     ]
    }
   ],
   "source": [
    "# Lastly, we evaluate the network on the test data, this code is quite easy to understand.\n",
    "\n",
    "correct = 0\n",
    "total = 0\n",
    "with torch.no_grad():\n",
    "    for data in testloader:\n",
    "        images, labels = data\n",
    "        outputs = net(images)\n",
    "        _, predicted = torch.max(outputs.data, 1)\n",
    "        total += labels.size(0)\n",
    "        correct += (predicted == labels).sum().item()\n",
    "\n",
    "print('Accuracy on the test set: %d %%' % (100 * correct / total))"
   ]
  },
  {
   "cell_type": "markdown",
   "id": "81e162d6-c14d-4c34-ba0b-b80af94fc529",
   "metadata": {
    "id": "81e162d6-c14d-4c34-ba0b-b80af94fc529"
   },
   "source": [
    "## A Simple NN (The perfect algorithm?)"
   ]
  },
  {
   "cell_type": "markdown",
   "id": "29ab9820-fbca-4f53-9b8d-ae0a8f312ae0",
   "metadata": {
    "id": "29ab9820-fbca-4f53-9b8d-ae0a8f312ae0"
   },
   "source": [
    "Now, 90% classification rate is good, for most purposes, but for the task at hand, we will need something just short of perfection - time for a more complex network!"
   ]
  },
  {
   "cell_type": "markdown",
   "id": "2a5dbf7e-8464-4571-912d-b16c172a7ae4",
   "metadata": {
    "id": "2a5dbf7e-8464-4571-912d-b16c172a7ae4"
   },
   "source": [
    "As you (should) have learned from your lectures and the course so far, there is phenomenon we call over-fitting and under-fitting, which happens when we use a model too simple or too complex for the data at hand."
   ]
  },
  {
   "cell_type": "markdown",
   "id": "3a389dd1-4e88-44df-b97b-a644318de8ae",
   "metadata": {
    "id": "3a389dd1-4e88-44df-b97b-a644318de8ae"
   },
   "source": [
    "We then know, that there should exist a perfect algorithm, which exists in the space below an over-fit model, and above an under-fit model, although it is near impossible to get to this 'perfect' model, we can simply stop once it's what we consider, adequete, lets do our best to find this not-so-perfect model then."
   ]
  },
  {
   "cell_type": "markdown",
   "id": "79db29b2-f97e-4a89-bdd8-6b074273f2bd",
   "metadata": {
    "id": "79db29b2-f97e-4a89-bdd8-6b074273f2bd"
   },
   "source": [
    "Below you will find, what we would call a simple Convolutional (Neural) Network (CNN), not quite deep learning, but the architecture is getting more complex. With this improved model, we would hope for higher accuracy, lets test this out."
   ]
  },
  {
   "cell_type": "code",
   "execution_count": null,
   "id": "90670835-b124-4d80-baa4-d13d828c6c88",
   "metadata": {
    "id": "90670835-b124-4d80-baa4-d13d828c6c88"
   },
   "outputs": [],
   "source": [
    "# Network architecture\n",
    "\n",
    "class SimpleNet(nn.Module):\n",
    "    def __init__(self):\n",
    "        super(SimpleNet, self).__init__()\n",
    "        self.conv1 = nn.Conv2d(1, 32, 3, 1)\n",
    "        self.fc1 = nn.Linear(32*13*13, 10)\n",
    "\n",
    "    def forward(self, x):\n",
    "        x = self.conv1(x)\n",
    "        x = nn.functional.relu(x)\n",
    "        x = nn.functional.max_pool2d(x, 2)\n",
    "        x = torch.flatten(x, 1)\n",
    "        x = self.fc1(x)\n",
    "        output = nn.functional.log_softmax(x, dim=1)\n",
    "        return output"
   ]
  },
  {
   "cell_type": "markdown",
   "id": "0be9c64a-44a4-4fc4-8a9a-34b4a96a30e3",
   "metadata": {
    "id": "0be9c64a-44a4-4fc4-8a9a-34b4a96a30e3"
   },
   "source": [
    "Some new functions have been introduced here, a convolution (makes sense in a convolution network no....). A convolution here is what we will call a 'matrix sliding operation' we input the image and a small matrix of numbers called a kernel (matrix much smaller than the image).\n",
    "\n",
    "To perform a convolution operation, we slide the kernel over the image, starting at the top left corner, and perform a series of element-wise multiplications and summations. At each location, we multiply the values in the kernel by the corresponding values in the image, and sum up the results. We then store the result in the output image at the corresponding location, it is a smaller matrix than the image, as we have 'contracted' values into a smaller space, essentially, that is the idea of a convolution.\n",
    "\n",
    "By doing this for every location in the input image, we can create a new output image that has been filtered or transformed in some way based on the kernel - the image below will make this much more obvious:"
   ]
  },
  {
   "cell_type": "markdown",
   "id": "40d75d6a-c33c-4f8d-8767-1c54211320a4",
   "metadata": {
    "id": "40d75d6a-c33c-4f8d-8767-1c54211320a4"
   },
   "source": [
    "![](https://github.com/MultiX-Amsterdam/image-data-module/blob/main/images/convolution.png?raw=true)\n",
    "\n",
    "Image source -- https://people.minesparis.psl.eu/fabien.moutarde/ES_MachineLearning/TP_convNets/convnet-notebook.html"
   ]
  },
  {
   "cell_type": "markdown",
   "id": "d57e7a38-dc6f-4e90-a773-5d3e98dd3281",
   "metadata": {
    "id": "d57e7a38-dc6f-4e90-a773-5d3e98dd3281"
   },
   "source": [
    "You'll notice however, we have also introduced something called Max Pooling, this is similar to a convolution, but it's primary goal is to reduce the dimensionality (size) of the feature maps produced by a layer of our CNN.\n",
    "\n",
    "The basic idea behind max pooling is to divide the feature map into non-overlapping regions, and then take the maximum value of each region as the output.\n",
    "\n",
    "To perform max pooling, we first select a region of the feature map (usually a small rectangle) and then find the maximum value in that region. We then store the maximum value in a new output feature map at the corresponding location.\n",
    "\n",
    "By repeating this process for each non-overlapping region in the feature map, we can create a new output feature map that is smaller than the input feature map. This process can be thought of as \"pooling\" the information from the input feature map, since we are reducing the amount of information by selecting only the maximum values, similar to convolutions as mentioned before!\n",
    "\n",
    "See below an image which describes Max Pooling:"
   ]
  },
  {
   "cell_type": "markdown",
   "id": "60c6d243-5ea3-4832-a47d-aabd9675e1e0",
   "metadata": {
    "id": "60c6d243-5ea3-4832-a47d-aabd9675e1e0"
   },
   "source": [
    "![](https://github.com/MultiX-Amsterdam/image-data-module/blob/main/images/max-pooling.png?raw=true)\n",
    "\n",
    "Image source -- https://www.geeksforgeeks.org/cnn-introduction-to-pooling-layer/"
   ]
  },
  {
   "cell_type": "markdown",
   "id": "e17f9d8f-7e04-46a5-b717-8882301f1129",
   "metadata": {
    "id": "e17f9d8f-7e04-46a5-b717-8882301f1129"
   },
   "source": [
    "Now, just as before, we are now going to have to initialize the network, and it's criterion and optimizer, now that you have seen it before, I should explain these a bit better:"
   ]
  },
  {
   "cell_type": "code",
   "execution_count": null,
   "id": "4578cb6d-e1c0-4a01-926e-636a314cdcc7",
   "metadata": {
    "colab": {
     "base_uri": "https://localhost:8080/",
     "height": 773
    },
    "id": "4578cb6d-e1c0-4a01-926e-636a314cdcc7",
    "outputId": "3ed7a9f1-96d5-4c44-b2a9-5519fbef2ea1"
   },
   "outputs": [
    {
     "data": {
      "image/png": "[encoded data removed]",
      "text/plain": [
       "<IPython.core.display.Image object>"
      ]
     },
     "execution_count": 16,
     "metadata": {
      "filenames": {
       "image/png": "/Users/ych/Sites/data-science-book-uva/_build/jupyter_execute/docs/modules/image-data-module/tutorial-image-data-notebook_34_0.png"
      }
     },
     "output_type": "execute_result"
    }
   ],
   "source": [
    "# Again, 'initializing' the network and optimizer, we effectively tell it how to 'learn', to correct itself by changing the weights of nodes in the network with what we call a loss function.\n",
    "net = SimpleNet()\n",
    "criterion = nn.NLLLoss()\n",
    "optimizer = optim.SGD(net.parameters(), lr=0.01, momentum=0.9)\n",
    "\n",
    "x = torch.randn(1, 1, 28, 28)\n",
    "x = Variable(x)\n",
    "# Pass the input tensor through the network and calculate the output\n",
    "y = net(x)\n",
    "\n",
    "# Create a visualization of the computation graph\n",
    "dot = make_dot(y.mean(), params=dict(net.named_parameters()))\n",
    "dot.format = 'png'\n",
    "dot.render(filename='net_graph2')\n",
    "\n",
    "# Display the computation graph in Jupyter Notebook\n",
    "Image(filename='net_graph2.png')"
   ]
  },
  {
   "cell_type": "markdown",
   "id": "c07f172a-feb4-4948-af84-168d041fce68",
   "metadata": {
    "id": "c07f172a-feb4-4948-af84-168d041fce68"
   },
   "source": [
    "Here, the 'criterion' is is used to compute the loss or error between the predicted output of a model and the actual output. During training, the model updates its parameters based on the value of the loss computed by the criterion. PyTorch provides several built-in criterion classes, such as nn.MSELoss for mean squared error and nn.CrossEntropyLoss for multi-class classification; or in our case:\n",
    "\n",
    "nn.NLLLoss - negative log likelihood, here our 'target' is a tensor of class labels which are true, we have our loss defined as the negative of the log-probabilities for each tensorial input (for every tensor value we have a unique loss, ignore the technical jargon). You simply take the log of the probability of each value of the input tensor (we can use nn.LogSoftmax for this for example).\n",
    "\n",
    "On the other hand, the optimizer is how we actually use this 'loss' to update the parameters of the model, we usually use optim.Adam or optim.SGD, 'Adam' (adaptive moment estimation) is essentially a more adaptive SGD (stochastic gradient descent), where the learning rate is updated based on the loss function and parameters. We use SGD over 'Adam' if our data is noisy or if we have a shallow network (like this one), as in these cases SGD converges faster - in most other cases 'Adam' converges much faster.\n",
    "\n",
    "Both of these try approach optimal parameter values by going towards the negative gradient we get from the loss function, multiplied by the learning rate, and reducing the parameter values by such."
   ]
  },
  {
   "cell_type": "markdown",
   "id": "5f5d4658-8bf6-4f38-a347-5aeae3fdff26",
   "metadata": {
    "id": "5f5d4658-8bf6-4f38-a347-5aeae3fdff26"
   },
   "source": [
    "Now we will train the model, as before:"
   ]
  },
  {
   "cell_type": "code",
   "execution_count": null,
   "id": "a9059ac4-d0b2-41db-bd49-ac9616f78d50",
   "metadata": {
    "colab": {
     "base_uri": "https://localhost:8080/"
    },
    "id": "a9059ac4-d0b2-41db-bd49-ac9616f78d50",
    "outputId": "e3c934a1-a869-46d8-e7ea-2c88956ea287",
    "tags": [
     "output_scroll"
    ]
   },
   "outputs": [
    {
     "name": "stdout",
     "output_type": "stream",
     "text": [
      "[1,   100] loss: 0.515\n",
      "[1,   200] loss: 0.217\n",
      "[1,   300] loss: 0.175\n",
      "[1,   400] loss: 0.148\n",
      "[1,   500] loss: 0.128\n",
      "[1,   600] loss: 0.118\n",
      "[1,   700] loss: 0.107\n",
      "[1,   800] loss: 0.098\n",
      "[1,   900] loss: 0.089\n",
      "[2,   100] loss: 0.076\n",
      "[2,   200] loss: 0.085\n",
      "[2,   300] loss: 0.076\n",
      "[2,   400] loss: 0.090\n",
      "[2,   500] loss: 0.058\n",
      "[2,   600] loss: 0.075\n",
      "[2,   700] loss: 0.064\n",
      "[2,   800] loss: 0.062\n",
      "[2,   900] loss: 0.081\n",
      "[3,   100] loss: 0.054\n",
      "[3,   200] loss: 0.062\n",
      "[3,   300] loss: 0.059\n",
      "[3,   400] loss: 0.055\n",
      "[3,   500] loss: 0.056\n",
      "[3,   600] loss: 0.057\n",
      "[3,   700] loss: 0.060\n",
      "[3,   800] loss: 0.058\n",
      "[3,   900] loss: 0.047\n",
      "[4,   100] loss: 0.045\n",
      "[4,   200] loss: 0.045\n",
      "[4,   300] loss: 0.047\n",
      "[4,   400] loss: 0.048\n",
      "[4,   500] loss: 0.050\n",
      "[4,   600] loss: 0.048\n",
      "[4,   700] loss: 0.050\n",
      "[4,   800] loss: 0.044\n",
      "[4,   900] loss: 0.043\n",
      "[5,   100] loss: 0.037\n",
      "[5,   200] loss: 0.034\n",
      "[5,   300] loss: 0.030\n",
      "[5,   400] loss: 0.040\n",
      "[5,   500] loss: 0.045\n",
      "[5,   600] loss: 0.037\n",
      "[5,   700] loss: 0.046\n",
      "[5,   800] loss: 0.043\n",
      "[5,   900] loss: 0.048\n",
      "[6,   100] loss: 0.034\n",
      "[6,   200] loss: 0.037\n",
      "[6,   300] loss: 0.025\n",
      "[6,   400] loss: 0.041\n",
      "[6,   500] loss: 0.036\n",
      "[6,   600] loss: 0.033\n",
      "[6,   700] loss: 0.034\n",
      "[6,   800] loss: 0.033\n",
      "[6,   900] loss: 0.033\n",
      "[7,   100] loss: 0.029\n",
      "[7,   200] loss: 0.029\n",
      "[7,   300] loss: 0.031\n",
      "[7,   400] loss: 0.030\n",
      "[7,   500] loss: 0.031\n",
      "[7,   600] loss: 0.028\n",
      "[7,   700] loss: 0.029\n",
      "[7,   800] loss: 0.031\n",
      "[7,   900] loss: 0.037\n",
      "[8,   100] loss: 0.022\n",
      "[8,   200] loss: 0.023\n",
      "[8,   300] loss: 0.024\n",
      "[8,   400] loss: 0.027\n",
      "[8,   500] loss: 0.026\n",
      "[8,   600] loss: 0.026\n",
      "[8,   700] loss: 0.035\n",
      "[8,   800] loss: 0.022\n",
      "[8,   900] loss: 0.028\n",
      "[9,   100] loss: 0.023\n",
      "[9,   200] loss: 0.020\n",
      "[9,   300] loss: 0.024\n",
      "[9,   400] loss: 0.023\n",
      "[9,   500] loss: 0.026\n",
      "[9,   600] loss: 0.027\n",
      "[9,   700] loss: 0.031\n",
      "[9,   800] loss: 0.024\n",
      "[9,   900] loss: 0.023\n",
      "[10,   100] loss: 0.025\n",
      "[10,   200] loss: 0.017\n",
      "[10,   300] loss: 0.023\n",
      "[10,   400] loss: 0.021\n",
      "[10,   500] loss: 0.022\n",
      "[10,   600] loss: 0.020\n",
      "[10,   700] loss: 0.020\n",
      "[10,   800] loss: 0.020\n",
      "[10,   900] loss: 0.021\n",
      "Finished training\n"
     ]
    }
   ],
   "source": [
    "# Training\n",
    "\n",
    "for epoch in range(10):\n",
    "    running_loss = 0.0\n",
    "    for i, data in enumerate(trainloader, 0):\n",
    "        inputs, labels = data\n",
    "        optimizer.zero_grad()\n",
    "        outputs = net(inputs)\n",
    "        loss = criterion(outputs, labels)\n",
    "        loss.backward()\n",
    "        optimizer.step()\n",
    "        running_loss += loss.item()\n",
    "        if i % 100 == 99:\n",
    "            print('[%d, %5d] loss: %.3f' %\n",
    "                  (epoch + 1, i + 1, running_loss / 100))\n",
    "            running_loss = 0.0\n",
    "\n",
    "print('Finished training')"
   ]
  },
  {
   "cell_type": "markdown",
   "id": "844e98a0-b8fa-415c-9187-809883ae8f9a",
   "metadata": {
    "id": "844e98a0-b8fa-415c-9187-809883ae8f9a"
   },
   "source": [
    "Training was completed above, nothing new here, we will again test the accuracy of the model, we are hoping for a marginal increase in accuracy, given we have complexified the model - see below the accuracy test:"
   ]
  },
  {
   "cell_type": "code",
   "execution_count": null,
   "id": "66e0091e-ec30-4640-a013-5d3b9cbf7ddb",
   "metadata": {
    "colab": {
     "base_uri": "https://localhost:8080/"
    },
    "id": "66e0091e-ec30-4640-a013-5d3b9cbf7ddb",
    "outputId": "db511668-a791-4909-d74a-6552280ff0be"
   },
   "outputs": [
    {
     "name": "stdout",
     "output_type": "stream",
     "text": [
      "Accuracy on the test set: 98 %\n"
     ]
    }
   ],
   "source": [
    "# Accuracy\n",
    "\n",
    "correct = 0\n",
    "total = 0\n",
    "with torch.no_grad():\n",
    "    for data in testloader:\n",
    "        images, labels = data\n",
    "        outputs = net(images)\n",
    "        _, predicted = torch.max(outputs.data, 1)\n",
    "        total += labels.size(0)\n",
    "        correct += (predicted == labels).sum().item()\n",
    "\n",
    "print('Accuracy on the test set: %d %%' % (100 * correct / total))"
   ]
  },
  {
   "cell_type": "markdown",
   "id": "4b654169-3a97-4bbd-b3b9-178d32945d98",
   "metadata": {
    "id": "4b654169-3a97-4bbd-b3b9-178d32945d98"
   },
   "source": [
    "This is quite the increase, seemingly, it is worth it to increase the complexity, lets test out this hypothesis; I won't be explaining much, what follows is more for you to interpret, and make your own conclusions - please ask if you have questions!"
   ]
  },
  {
   "cell_type": "markdown",
   "id": "77f42f9a-5199-40aa-9c17-5754d67f6818",
   "metadata": {
    "id": "77f42f9a-5199-40aa-9c17-5754d67f6818"
   },
   "source": [
    "## The Elusive CNN (As good as it gets?)"
   ]
  },
  {
   "cell_type": "code",
   "execution_count": null,
   "id": "4fafa577-94b3-4ae2-aaaa-5a0627ecb4d3",
   "metadata": {
    "id": "4fafa577-94b3-4ae2-aaaa-5a0627ecb4d3"
   },
   "outputs": [],
   "source": [
    "# Network architecture\n",
    "\n",
    "class Net(nn.Module):\n",
    "    def __init__(self):\n",
    "        super(Net, self).__init__()\n",
    "        self.conv1 = nn.Conv2d(1, 32, 3, 1)\n",
    "        self.conv2 = nn.Conv2d(32, 64, 3, 1)\n",
    "        self.fc1 = nn.Linear(64*5*5, 128)\n",
    "        self.fc2 = nn.Linear(128, 10)\n",
    "\n",
    "    def forward(self, x):\n",
    "        x = self.conv1(x)\n",
    "        x = nn.functional.relu(x)\n",
    "        x = nn.functional.max_pool2d(x, 2)\n",
    "        x = self.conv2(x)\n",
    "        x = nn.functional.relu(x)\n",
    "        x = nn.functional.max_pool2d(x, 2)\n",
    "        x = torch.flatten(x, 1)\n",
    "        x = self.fc1(x)\n",
    "        x = nn.functional.relu(x)\n",
    "        x = self.fc2(x)\n",
    "        output = nn.functional.log_softmax(x, dim=1)\n",
    "        return output"
   ]
  },
  {
   "cell_type": "code",
   "execution_count": null,
   "id": "c5dae5c0-5ad5-4f56-80e3-851856cf3fd4",
   "metadata": {
    "colab": {
     "base_uri": "https://localhost:8080/",
     "height": 1000
    },
    "id": "c5dae5c0-5ad5-4f56-80e3-851856cf3fd4",
    "outputId": "16920908-1ff7-4f20-ccc4-510e11fb8bed"
   },
   "outputs": [
    {
     "data": {
      "image/png": "[encoded data removed]",
      "text/plain": [
       "<IPython.core.display.Image object>"
      ]
     },
     "execution_count": 20,
     "metadata": {
      "filenames": {
       "image/png": "/Users/ych/Sites/data-science-book-uva/_build/jupyter_execute/docs/modules/image-data-module/tutorial-image-data-notebook_43_0.png"
      }
     },
     "output_type": "execute_result"
    }
   ],
   "source": [
    "# Initializing the network\n",
    "\n",
    "net = Net()\n",
    "criterion = nn.CrossEntropyLoss() #Note the change here\n",
    "optimizer = optim.SGD(net.parameters(), lr=0.01, momentum=0.9)\n",
    "\n",
    "x = torch.randn(1, 1, 28, 28)\n",
    "x = Variable(x)\n",
    "# Pass the input tensor through the network and calculate the output\n",
    "y = net(x)\n",
    "\n",
    "# Create a visualization of the computation graph\n",
    "dot = make_dot(y.mean(), params=dict(net.named_parameters()))\n",
    "dot.format = 'png'\n",
    "dot.render(filename='net_graph3')\n",
    "\n",
    "# Display the computation graph in Jupyter Notebook\n",
    "Image(filename='net_graph3.png')"
   ]
  },
  {
   "cell_type": "code",
   "execution_count": null,
   "id": "c03ab02d-9b61-4c1b-ba41-515132d5645b",
   "metadata": {
    "colab": {
     "base_uri": "https://localhost:8080/"
    },
    "id": "c03ab02d-9b61-4c1b-ba41-515132d5645b",
    "outputId": "b6c94c3d-efa1-4d86-ca3f-7009a439ed5d",
    "tags": [
     "output_scroll"
    ]
   },
   "outputs": [
    {
     "name": "stdout",
     "output_type": "stream",
     "text": [
      "[1,   100] loss: 0.984\n",
      "[1,   200] loss: 0.207\n",
      "[1,   300] loss: 0.146\n",
      "[1,   400] loss: 0.118\n",
      "[1,   500] loss: 0.109\n",
      "[1,   600] loss: 0.083\n",
      "[1,   700] loss: 0.081\n",
      "[1,   800] loss: 0.083\n",
      "[1,   900] loss: 0.060\n",
      "[2,   100] loss: 0.054\n",
      "[2,   200] loss: 0.056\n",
      "[2,   300] loss: 0.054\n",
      "[2,   400] loss: 0.051\n",
      "[2,   500] loss: 0.054\n",
      "[2,   600] loss: 0.049\n",
      "[2,   700] loss: 0.042\n",
      "[2,   800] loss: 0.046\n",
      "[2,   900] loss: 0.045\n",
      "[3,   100] loss: 0.031\n",
      "[3,   200] loss: 0.033\n",
      "[3,   300] loss: 0.035\n",
      "[3,   400] loss: 0.032\n",
      "[3,   500] loss: 0.041\n",
      "[3,   600] loss: 0.035\n",
      "[3,   700] loss: 0.040\n",
      "[3,   800] loss: 0.038\n",
      "[3,   900] loss: 0.035\n",
      "[4,   100] loss: 0.030\n",
      "[4,   200] loss: 0.021\n",
      "[4,   300] loss: 0.029\n",
      "[4,   400] loss: 0.028\n",
      "[4,   500] loss: 0.025\n",
      "[4,   600] loss: 0.028\n",
      "[4,   700] loss: 0.026\n",
      "[4,   800] loss: 0.023\n",
      "[4,   900] loss: 0.033\n",
      "[5,   100] loss: 0.017\n",
      "[5,   200] loss: 0.018\n",
      "[5,   300] loss: 0.022\n",
      "[5,   400] loss: 0.017\n",
      "[5,   500] loss: 0.020\n",
      "[5,   600] loss: 0.020\n",
      "[5,   700] loss: 0.020\n",
      "[5,   800] loss: 0.023\n",
      "[5,   900] loss: 0.018\n",
      "[6,   100] loss: 0.020\n",
      "[6,   200] loss: 0.015\n",
      "[6,   300] loss: 0.016\n",
      "[6,   400] loss: 0.013\n",
      "[6,   500] loss: 0.014\n",
      "[6,   600] loss: 0.017\n",
      "[6,   700] loss: 0.017\n",
      "[6,   800] loss: 0.014\n",
      "[6,   900] loss: 0.021\n",
      "[7,   100] loss: 0.015\n",
      "[7,   200] loss: 0.015\n",
      "[7,   300] loss: 0.014\n",
      "[7,   400] loss: 0.015\n",
      "[7,   500] loss: 0.010\n",
      "[7,   600] loss: 0.012\n",
      "[7,   700] loss: 0.012\n",
      "[7,   800] loss: 0.017\n",
      "[7,   900] loss: 0.010\n",
      "[8,   100] loss: 0.008\n",
      "[8,   200] loss: 0.007\n",
      "[8,   300] loss: 0.010\n",
      "[8,   400] loss: 0.006\n",
      "[8,   500] loss: 0.014\n",
      "[8,   600] loss: 0.014\n",
      "[8,   700] loss: 0.008\n",
      "[8,   800] loss: 0.012\n",
      "[8,   900] loss: 0.016\n",
      "[9,   100] loss: 0.008\n",
      "[9,   200] loss: 0.007\n",
      "[9,   300] loss: 0.007\n",
      "[9,   400] loss: 0.009\n",
      "[9,   500] loss: 0.007\n",
      "[9,   600] loss: 0.012\n",
      "[9,   700] loss: 0.009\n",
      "[9,   800] loss: 0.008\n",
      "[9,   900] loss: 0.007\n",
      "[10,   100] loss: 0.004\n",
      "[10,   200] loss: 0.005\n",
      "[10,   300] loss: 0.006\n",
      "[10,   400] loss: 0.006\n",
      "[10,   500] loss: 0.006\n",
      "[10,   600] loss: 0.013\n",
      "[10,   700] loss: 0.009\n",
      "[10,   800] loss: 0.008\n",
      "[10,   900] loss: 0.009\n",
      "Finished training\n"
     ]
    }
   ],
   "source": [
    "# Training\n",
    "\n",
    "for epoch in range(10):\n",
    "    running_loss = 0.0\n",
    "    for i, data in enumerate(trainloader, 0):\n",
    "        inputs, labels = data\n",
    "        optimizer.zero_grad()\n",
    "        outputs = net(inputs)\n",
    "        loss = criterion(outputs, labels)\n",
    "        loss.backward()\n",
    "        optimizer.step()\n",
    "        running_loss += loss.item()\n",
    "        if i % 100 == 99:\n",
    "            print('[%d, %5d] loss: %.3f' %\n",
    "                  (epoch + 1, i + 1, running_loss / 100))\n",
    "            running_loss = 0.0\n",
    "\n",
    "print('Finished training')"
   ]
  },
  {
   "cell_type": "code",
   "execution_count": null,
   "id": "cdb9d81a-9801-4824-ab82-82443e4fb2ee",
   "metadata": {
    "colab": {
     "base_uri": "https://localhost:8080/"
    },
    "id": "cdb9d81a-9801-4824-ab82-82443e4fb2ee",
    "outputId": "21127498-b14a-47d9-a80e-f370aaa87e59"
   },
   "outputs": [
    {
     "name": "stdout",
     "output_type": "stream",
     "text": [
      "Accuracy on the test set: 99 %\n"
     ]
    }
   ],
   "source": [
    "# Accuracy\n",
    "\n",
    "correct = 0\n",
    "total = 0\n",
    "with torch.no_grad():\n",
    "    for data in testloader:\n",
    "        images, labels = data\n",
    "        outputs = net(images)\n",
    "        _, predicted = torch.max(outputs.data, 1)\n",
    "        total += labels.size(0)\n",
    "        correct += (predicted == labels).sum().item()\n",
    "\n",
    "print('Accuracy on the test set: %d %%' % (100 * correct / total))"
   ]
  },
  {
   "cell_type": "markdown",
   "id": "ea271226-cd4a-42bb-8206-a92204eab718",
   "metadata": {
    "id": "ea271226-cd4a-42bb-8206-a92204eab718"
   },
   "source": [
    "Surely this is about as good as it gets accuracy wise, or is it?"
   ]
  },
  {
   "cell_type": "markdown",
   "id": "ea80847f-2680-43ba-bdf8-dc1883c5663a",
   "metadata": {
    "id": "ea80847f-2680-43ba-bdf8-dc1883c5663a"
   },
   "source": [
    "## The complex CNN (Perfection?)"
   ]
  },
  {
   "cell_type": "code",
   "execution_count": null,
   "id": "68485f25-a3ff-4728-acb1-3d8d648fd3d0",
   "metadata": {
    "id": "68485f25-a3ff-4728-acb1-3d8d648fd3d0"
   },
   "outputs": [],
   "source": [
    "# Network architecture\n",
    "\n",
    "class complexNet(nn.Module):\n",
    "    def __init__(self):\n",
    "        super(complexNet, self).__init__()\n",
    "        self.conv1 = nn.Conv2d(1, 32, kernel_size=3)\n",
    "        self.conv2 = nn.Conv2d(32, 64, kernel_size=3)\n",
    "        self.fc1 = nn.Linear(64 * 5 * 5, 512)\n",
    "        self.fc2 = nn.Linear(512, 10)\n",
    "\n",
    "    def forward(self, x):\n",
    "        x = nn.functional.relu(self.conv1(x))\n",
    "        x = nn.functional.max_pool2d(x, kernel_size=2)\n",
    "        x = nn.functional.relu(self.conv2(x))\n",
    "        x = nn.functional.max_pool2d(x, kernel_size=2)\n",
    "        x = x.view(-1, 64 * 5 * 5)\n",
    "        x = nn.functional.relu(self.fc1(x))\n",
    "        x = nn.functional.dropout(x, p=0.5, training=self.training)\n",
    "        x = self.fc2(x)\n",
    "        return x"
   ]
  },
  {
   "cell_type": "code",
   "execution_count": null,
   "id": "e1741884-afa4-4dba-bb9e-b008a119a2d8",
   "metadata": {
    "colab": {
     "base_uri": "https://localhost:8080/",
     "height": 1000
    },
    "id": "e1741884-afa4-4dba-bb9e-b008a119a2d8",
    "outputId": "fff48c30-0a6f-4571-a3d8-abf7190a1485"
   },
   "outputs": [
    {
     "data": {
      "image/png": "[encoded data removed]",
      "text/plain": [
       "<IPython.core.display.Image object>"
      ]
     },
     "execution_count": 24,
     "metadata": {
      "filenames": {
       "image/png": "/Users/ych/Sites/data-science-book-uva/_build/jupyter_execute/docs/modules/image-data-module/tutorial-image-data-notebook_49_0.png"
      }
     },
     "output_type": "execute_result"
    }
   ],
   "source": [
    "# Initiatializing the Network\n",
    "\n",
    "model = complexNet()\n",
    "criterion = nn.CrossEntropyLoss()\n",
    "optimizer = optim.Adam(model.parameters(), lr=0.001)\n",
    "\n",
    "x = torch.randn(1, 1, 28, 28)\n",
    "x = Variable(x)\n",
    "# Pass the input tensor through the network and calculate the output\n",
    "y = model(x)\n",
    "\n",
    "# Create a visualization of the computation graph\n",
    "dot = make_dot(y.mean(), params=dict(net.named_parameters()))\n",
    "dot.format = 'png'\n",
    "dot.render(filename='net_graph4')\n",
    "\n",
    "# Display the computation graph in Jupyter Notebook\n",
    "Image(filename='net_graph4.png')"
   ]
  },
  {
   "cell_type": "code",
   "execution_count": null,
   "id": "92d6ec22-644f-4728-ab0b-203a93cb4586",
   "metadata": {
    "colab": {
     "base_uri": "https://localhost:8080/"
    },
    "id": "92d6ec22-644f-4728-ab0b-203a93cb4586",
    "outputId": "9c58a53f-9dad-4abe-c945-4b414a57d5f7",
    "tags": [
     "output_scroll"
    ]
   },
   "outputs": [
    {
     "name": "stdout",
     "output_type": "stream",
     "text": [
      "[1,   100] loss: 0.494\n",
      "[1,   200] loss: 0.151\n",
      "[1,   300] loss: 0.122\n",
      "[1,   400] loss: 0.110\n",
      "[1,   500] loss: 0.089\n",
      "[1,   600] loss: 0.089\n",
      "[1,   700] loss: 0.072\n",
      "[1,   800] loss: 0.059\n",
      "[1,   900] loss: 0.067\n",
      "[2,   100] loss: 0.053\n",
      "[2,   200] loss: 0.041\n",
      "[2,   300] loss: 0.058\n",
      "[2,   400] loss: 0.055\n",
      "[2,   500] loss: 0.060\n",
      "[2,   600] loss: 0.048\n",
      "[2,   700] loss: 0.055\n",
      "[2,   800] loss: 0.043\n",
      "[2,   900] loss: 0.047\n",
      "[3,   100] loss: 0.036\n",
      "[3,   200] loss: 0.029\n",
      "[3,   300] loss: 0.044\n",
      "[3,   400] loss: 0.032\n",
      "[3,   500] loss: 0.034\n",
      "[3,   600] loss: 0.035\n",
      "[3,   700] loss: 0.039\n",
      "[3,   800] loss: 0.035\n",
      "[3,   900] loss: 0.035\n",
      "[4,   100] loss: 0.029\n",
      "[4,   200] loss: 0.028\n",
      "[4,   300] loss: 0.027\n",
      "[4,   400] loss: 0.035\n",
      "[4,   500] loss: 0.031\n",
      "[4,   600] loss: 0.036\n",
      "[4,   700] loss: 0.033\n",
      "[4,   800] loss: 0.033\n",
      "[4,   900] loss: 0.025\n",
      "[5,   100] loss: 0.019\n",
      "[5,   200] loss: 0.022\n",
      "[5,   300] loss: 0.014\n",
      "[5,   400] loss: 0.022\n",
      "[5,   500] loss: 0.031\n",
      "[5,   600] loss: 0.021\n",
      "[5,   700] loss: 0.024\n",
      "[5,   800] loss: 0.024\n",
      "[5,   900] loss: 0.027\n",
      "[6,   100] loss: 0.015\n",
      "[6,   200] loss: 0.018\n",
      "[6,   300] loss: 0.022\n",
      "[6,   400] loss: 0.023\n",
      "[6,   500] loss: 0.024\n",
      "[6,   600] loss: 0.016\n",
      "[6,   700] loss: 0.021\n",
      "[6,   800] loss: 0.024\n",
      "[6,   900] loss: 0.023\n",
      "[7,   100] loss: 0.013\n",
      "[7,   200] loss: 0.013\n",
      "[7,   300] loss: 0.015\n",
      "[7,   400] loss: 0.015\n",
      "[7,   500] loss: 0.020\n",
      "[7,   600] loss: 0.016\n",
      "[7,   700] loss: 0.013\n",
      "[7,   800] loss: 0.017\n",
      "[7,   900] loss: 0.022\n",
      "[8,   100] loss: 0.014\n",
      "[8,   200] loss: 0.017\n",
      "[8,   300] loss: 0.010\n",
      "[8,   400] loss: 0.015\n",
      "[8,   500] loss: 0.012\n",
      "[8,   600] loss: 0.018\n",
      "[8,   700] loss: 0.016\n",
      "[8,   800] loss: 0.023\n",
      "[8,   900] loss: 0.018\n",
      "[9,   100] loss: 0.018\n",
      "[9,   200] loss: 0.014\n",
      "[9,   300] loss: 0.010\n",
      "[9,   400] loss: 0.018\n",
      "[9,   500] loss: 0.013\n",
      "[9,   600] loss: 0.016\n",
      "[9,   700] loss: 0.010\n",
      "[9,   800] loss: 0.015\n",
      "[9,   900] loss: 0.012\n",
      "[10,   100] loss: 0.010\n",
      "[10,   200] loss: 0.010\n",
      "[10,   300] loss: 0.018\n",
      "[10,   400] loss: 0.011\n",
      "[10,   500] loss: 0.009\n",
      "[10,   600] loss: 0.009\n",
      "[10,   700] loss: 0.008\n",
      "[10,   800] loss: 0.015\n",
      "[10,   900] loss: 0.008\n",
      "Finished training\n"
     ]
    }
   ],
   "source": [
    "# Training\n",
    "\n",
    "for epoch in range(10):\n",
    "    running_loss = 0.0\n",
    "    for i, data in enumerate(trainloader, 0):\n",
    "        inputs, labels = data\n",
    "        optimizer.zero_grad()\n",
    "        outputs = model(inputs)\n",
    "        loss = criterion(outputs, labels)\n",
    "        loss.backward()\n",
    "        optimizer.step()\n",
    "        running_loss += loss.item()\n",
    "        if i % 100 == 99:\n",
    "            print('[%d, %5d] loss: %.3f' %\n",
    "                  (epoch + 1, i + 1, running_loss / 100))\n",
    "            running_loss = 0.0\n",
    "\n",
    "print('Finished training')"
   ]
  },
  {
   "cell_type": "code",
   "execution_count": null,
   "id": "47d7683e-f7d1-4b8f-968d-79f7242ce1dc",
   "metadata": {
    "colab": {
     "base_uri": "https://localhost:8080/"
    },
    "id": "47d7683e-f7d1-4b8f-968d-79f7242ce1dc",
    "outputId": "16c46264-824e-410a-b573-6d71e2dcb73a"
   },
   "outputs": [
    {
     "name": "stdout",
     "output_type": "stream",
     "text": [
      "Accuracy on the test set: 99 %\n"
     ]
    }
   ],
   "source": [
    "# Accuracy\n",
    "\n",
    "correct = 0\n",
    "total = 0\n",
    "with torch.no_grad():\n",
    "    for data in testloader:\n",
    "        images, labels = data\n",
    "        outputs = net(images)\n",
    "        _, predicted = torch.max(outputs.data, 1)\n",
    "        total += labels.size(0)\n",
    "        correct += (predicted == labels).sum().item()\n",
    "\n",
    "print('Accuracy on the test set: %d %%' % (100 * correct / total))"
   ]
  },
  {
   "cell_type": "markdown",
   "id": "dccf56a3-82fa-4cba-af54-7c68ee68092f",
   "metadata": {
    "id": "dccf56a3-82fa-4cba-af54-7c68ee68092f"
   },
   "source": [
    "What was the accuracy of the model? Why do you think this is the case?"
   ]
  },
  {
   "cell_type": "markdown",
   "id": "3b183946-336c-4af1-8ccc-e040c7815ce4",
   "metadata": {
    "id": "3b183946-336c-4af1-8ccc-e040c7815ce4"
   },
   "source": [
    "![](https://github.com/MultiX-Amsterdam/image-data-module/blob/main/images/icarus.jpg?raw=true)\n",
    "\n",
    "Image source -- https://www.greekmythologyinart.com/the-fall-of-icarus-gowy.html"
   ]
  },
  {
   "cell_type": "markdown",
   "id": "499e4251-5ec0-4e89-b03b-c1e2c779fb5c",
   "metadata": {
    "id": "499e4251-5ec0-4e89-b03b-c1e2c779fb5c"
   },
   "source": [
    "Which one of these models will you use to decode the ancient tablet? Are any of them good enough? Briefly explain why you picked the model you did, so you can justify to your colleagues why they will continue working further with it!"
   ]
  }
 ],
 "metadata": {
  "accelerator": "GPU",
  "colab": {
   "provenance": [],
   "toc_visible": true
  },
  "gpuClass": "standard",
  "kernelspec": {
   "display_name": "Python 3 (ipykernel)",
   "language": "python",
   "name": "python3"
  },
  "language_info": {
   "codemirror_mode": {
    "name": "ipython",
    "version": 3
   },
   "file_extension": ".py",
   "mimetype": "text/x-python",
   "name": "python",
   "nbconvert_exporter": "python",
   "pygments_lexer": "ipython3",
   "version": "3.10.5"
  },
  "widgets": {
   "application/vnd.jupyter.widget-state+json": {
    "state": {},
    "version_major": 2,
    "version_minor": 0
   }
  }
 },
 "nbformat": 4,
 "nbformat_minor": 5
}