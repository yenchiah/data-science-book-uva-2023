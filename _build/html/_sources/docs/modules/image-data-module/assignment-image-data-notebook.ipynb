{
 "cells": [
  {
   "cell_type": "markdown",
   "id": "5bf48710-65da-485d-b16f-37c7a337e3ed",
   "metadata": {
    "id": "5bf48710-65da-485d-b16f-37c7a337e3ed"
   },
   "source": [
    "# Garbage Classification - A task from the Gemeente\n",
    "\n",
    "(Last updated: Mar 14, 2023)[^credit]\n",
    "\n",
    "[^credit]: Credit: this teaching material is created by Bryan Fleming under the supervision of [Yen-Chia Hsu](https://github.com/yenchiah).\n",
    "\n",
    "Here is an online version of [this notebook in Google Colab](https://colab.research.google.com/drive/10kYsTaWb7DA-qvroa73PaLdbSpAfeckD?usp=sharing). This online version is just for browsing. To work on this notebook, you need to copy a new one to your own Google Colab."
   ]
  },
  {
   "cell_type": "code",
   "execution_count": null,
   "id": "64ba3a7e-4206-40fe-acf1-a45c2c97db17",
   "metadata": {
    "id": "64ba3a7e-4206-40fe-acf1-a45c2c97db17"
   },
   "outputs": [],
   "source": [
    "# Importing Libraries\n",
    "\n",
    "import math\n",
    "import os\n",
    "import torch\n",
    "import torchvision\n",
    "from torch.utils.data import random_split\n",
    "import torchvision.models as models\n",
    "from torch.utils.data.dataloader import DataLoader\n",
    "import torch.nn as nn\n",
    "import torch.nn.functional as F\n",
    "import torch.optim as optim\n",
    "import torch.nn.init as init\n",
    "from torch.autograd import Variable\n",
    "from torchvision.utils import make_grid\n",
    "from IPython.display import Image\n",
    "import base64\n",
    "import matplotlib.pyplot as plt\n",
    "from IPython.display import HTML"
   ]
  },
  {
   "cell_type": "markdown",
   "id": "A67RynzQEz7b",
   "metadata": {
    "id": "A67RynzQEz7b"
   },
   "source": [
    "**First, you need to enable GPUs for the notebook in Google Colab:**\n",
    "\n",
    "- Navigate to Edit→Notebook Settings\n",
    "- Select GPU from the Hardware Accelerator drop-down"
   ]
  },
  {
   "cell_type": "code",
   "execution_count": null,
   "id": "d2ca6ecd-6915-4a02-9609-eb54c6727ebb",
   "metadata": {
    "colab": {
     "base_uri": "https://localhost:8080/"
    },
    "id": "d2ca6ecd-6915-4a02-9609-eb54c6727ebb",
    "outputId": "1be859f4-16d3-4b87-9fd7-48c6c8619d52"
   },
   "outputs": [
    {
     "data": {
      "text/plain": [
       "device(type='cuda')"
      ]
     },
     "execution_count": 87,
     "metadata": {},
     "output_type": "execute_result"
    }
   ],
   "source": [
    "if torch.cuda.is_available():\n",
    "    device = torch.device(\"cuda\")          # use CUDA device\n",
    "else:\n",
    "    device = torch.device(\"cpu\")           # use CPU device\n",
    "device"
   ]
  },
  {
   "cell_type": "markdown",
   "id": "-cWpB1ZgE223",
   "metadata": {
    "id": "-cWpB1ZgE223"
   },
   "source": [
    "Make sure that the ouput from the above cell is `device(type='cuda')`. If you see `device(type='cpu')`, it means that you did not enable GPU usage on Google Colab. Go to [this page](https://web.eecs.umich.edu/~justincj/teaching/eecs442/WI2021/colab.html) and check the \"Use GPU as an accelerator\" part for details. Please be patient for this tutorial and the assignment, as training neural networks for Computer Vision tasks typically takes a lot of time."
   ]
  },
  {
   "cell_type": "markdown",
   "id": "C1qDa7OQErjO",
   "metadata": {
    "id": "C1qDa7OQErjO"
   },
   "source": [
    "## Scenario"
   ]
  },
  {
   "cell_type": "markdown",
   "id": "2d039647-2bef-490a-b7d4-bd0029b1d4ca",
   "metadata": {
    "id": "2d039647-2bef-490a-b7d4-bd0029b1d4ca"
   },
   "source": [
    "As members of the data science course, you have been tasked with a challenging and meaningful project: you will help give feedback on machine learning algorithms, designed for classifying types of garbage for the Gemeente Amsterdam. This project offers a unique opportunity to apply your data science skills to a real-world problem, making a positive impact on your local community.\n",
    "\n",
    "Waste management is a critical issue that affects us all. As our population grows (and we know how much the population of Amsterdam is growing) and consumption increases, the amount of waste we generate also increases. One way to manage this waste is to classify it according to its type, making it easier to handle and recycle. However, manually classifying waste is time-consuming and prone to error, which is where machine learning can help.\n",
    "\n",
    "Machine learning algorithms can be trained to recognize patterns in data and make accurate predictions based on those patterns. In the case of garbage classification, machine learning can help to identify the type of garbage based on its physical properties, such as size, shape, and color. By automating this process, we can improve the efficiency and accuracy of waste management and recycling.\n",
    "\n",
    "As you work on this project, you will have the opportunity to apply your knowledge of data science, statistics, and machine learning to a real-world problem. You will learn how to clean, preprocess, and explore data, how to train machine learning algorithms, and how to evaluate and optimize the performance of your models.\n",
    "\n",
    "This project will challenge you to think creatively, to collaborate with your peers, and to apply your skills to a problem that has real-world implications. We encourage you to take ownership of your work, to explore different methods and algorithms, and to document your process and results thoroughly.\n",
    "\n",
    "In the end, your efforts will contribute to improving the waste management and recycling practices of the Gemeente Amsterdam, making a positive impact on the environment and the community. We wish you the best of luck in this exciting and meaningful project, and we look forward to seeing the results of your hard work.\n",
    "\n",
    "The Gemeente needs critical analysis and feedback on their draft algorithms, so they can make an effective classifcation system in the future - to replace most of the current manpower and update the convoluted systems currently in place."
   ]
  },
  {
   "cell_type": "markdown",
   "id": "ofGUDQYUxC6H",
   "metadata": {
    "id": "ofGUDQYUxC6H",
    "tags": [
     "hide-cell"
    ]
   },
   "source": [
    "Assignment 3\n",
    "- The loss when using the SGD optimizer drops slowly, and eventurally it may still be able to reach a good performance. But when we change the optimizer to Adam, we start to get a boost in model performance and a faster decrease in the loss.\n",
    "\n",
    "Assignment 4\n",
    "- When we use a very small learning rate, the loss almost does not change, and the performance of the model changes only a little bit (but is still changing). When we use a very large learning rate, we see that the loss and the model performance oscillate (i.e., alternating between some low and high values).\n",
    "\n",
    "Assignment 5\n",
    "- When we initialize all the weights to zero, we see that the loss and model performance almost never change. It looks like the model just stopped working. However, when we change the weight initialization to the Kaiming method, we see that the model can now be trained significantly faster than all the other settings when using the SGD optimizer with the same learning rate.\n",
    "\n",
    "Assignment 6\n",
    "- We recommend using ResNet18 and a single linear layer at the end for classification. The recommended optimizer is Adam, the suggested learning rate is 5e-5, and the suggested number of epoch is 15. We also suggest using the Kaiming weight initialization method. These hyperparameters were found to produce the highest accuracy on the validation set while also avoiding overfitting. It is recommended that the Gemeente use this network with these hyperparameters as a starting point for further development of the AI garbage classifier. Some inspiration and functions accredited to [this Kaggle page](https://www.kaggle.com/code/aadhavvignesh/pytorch-garbage-classification-95-accuracy/notebook?scriptVersionId=38278889).\n",
    "\n",
    "Assignment 7.1\n",
    "- The last layer was changed so it 'collapses' from the previous layer of the network's last fully connected layer to the number of classes in our model, so we can actually make predictions.\n",
    "\n",
    "Assignment 7.2\n",
    "- Tis issue is the network failing to break symmetry, also known as the \"symmetry problem,\" is a well-known problem in deep learning. When we have multiple neurons in a layer with the same weights and biases, they will produce the same output, and the gradients will be the same for all the neurons. This makes it impossible for the network to learn different features from the data, as all the neurons in a layer will contribute equally to the output.\n",
    "- By randomly initializing the weights, we break the symmetry, and each neuron will learn different features from the data. This is because the random initialization ensures that each neuron in a layer has a different starting point and is optimized differently, resulting in a diverse set of learned features. This allows the network to learn complex representations of the data, leading to better performance.\n",
    "\n",
    "Assignment 7.3\n",
    "- Zero initialization: initializes all weights to zero. This can cause problems with symmetry breaking and cause all neurons to update identically during training, leading to poor performance.\n",
    "- Gaussian distributed initialization: initializes weights with random values drawn from a normal distribution. This method can help to break symmetry and enable better training, but the variance of the distribution needs to be carefully chosen to avoid exploding/vanishing gradients.\n",
    "- Kaiming initialization: similar to Xavier initialization, but designed specifically for ReLU activation functions that can cause problems with dying ReLUs if not initialized properly. This method scales the weights based only on the number of input neurons, rather than both input and output neurons as in Xavier initialization.\n",
    "- [EXTRA] Xavier initialization: scales the weights based on the number of input and output neurons, helping to ensure that the variance of the activations remains roughly constant across layers. This can lead to faster convergence and better performance, particularly for tanh activation functions.\n",
    "- More information about weight initialization can be found in [this notebook](https://uvadlc-notebooks.readthedocs.io/en/latest/tutorial_notebooks/tutorial4/Optimization_and_Initialization.html).\n",
    "\n",
    "Assignment 7.4\n",
    "- The phenomenon where adding more layers to a neural network leads to worse performance is known as the \"overfitting problem\". This occurs when a model is too complex and fits the training data too closely, leading to poor generalization to new data. To fix this issue, we can use regularization methods such as L1, L2, and dropout. L1 regularization involves adding a penalty to the loss function that encourages weights to be sparse (so close to 0, they essentially act as a 0 weight would), while L2 regularization adds a penalty that encourages small weights. Dropout randomly \"drops out\" neurons during training, which helps prevent overfitting. By using these regularization techniques, we can help ensure that the model generalizes well to new data, while still keeping the architecture mostly the same.\n",
    "\n",
    "Assignment 7.5\n",
    "- When using a high learning rate, the model's optimization algorithm may overshoot the optimal weights and biases during training, leading to instability and divergence. This can result in the loss function not converging or even increasing. To address this issue, we can use techniques such as learning rate scheduling, which gradually reduces the learning rate over time, or we can use adaptive optimization algorithms such as Adam, which dynamically adjust the learning rate during training based on the gradients. Additionally, regularization techniques such as dropout and weight decay can help to prevent overfitting and improve generalization.\n",
    "- Conversely, when using a very small learning rate, the optimizer will only take very small steps in updating the model parameters, which means that it will take a very long time to train our model.\n",
    "\n",
    "Assignment 7.6\n",
    "- ReLU activation function - ReLU has a derivative of 1 for all positive inputs, which helps prevent the gradient from becoming too small.\n",
    "- Initialization techniques - Properly initializing the weights can help prevent the gradient from becoming too small or too large.\n",
    "- Dropout - Dropout randomly \"drops out\" neurons during training, which helps prevent overfitting and can also prevent the gradient from becoming too small.\n",
    "- L1 and L2 regularization - L1 regularization adds a penalty term to the loss function that encourages sparse weight matrices, while L2 regularization adds a penalty term that encourages small weights. This helps prevent the gradient from becoming too large.\n",
    "- These methods work by either ensuring that the gradient doesn't become too small or too large, or by preventing overfitting, which can exacerbate the vanishing gradient problem.\n",
    "- [EXTRA] Batch Normalization - Normalizing the input to each layer of the network can help prevent the gradient from becoming too small or too large.\n",
    "- [EXTRA] Gradient Clipping - Limiting the maximum or minimum value of the gradients can prevent the gradients from becoming too large or too small.\n",
    "- [EXTRA] Residual connections - Adding residual connections to the network can help prevent the gradient from becoming too small as the signal can bypass the problematic layers. This solution corresponds to the ResNet that we used in this tutorial.\n",
    "- More information about Vanishing Gradient can be found from [this notebook](https://uvadlc-notebooks.readthedocs.io/en/latest/tutorial_notebooks/tutorial3/Activation_Functions.html)."
   ]
  },
  {
   "cell_type": "markdown",
   "id": "2eedecc0-2833-45df-90d2-1406af2e8904",
   "metadata": {
    "id": "2eedecc0-2833-45df-90d2-1406af2e8904"
   },
   "source": [
    "## Load Datasets"
   ]
  },
  {
   "cell_type": "markdown",
   "id": "Ks-SdmveKs7q",
   "metadata": {
    "id": "Ks-SdmveKs7q"
   },
   "source": [
    "**These aren't mock-up datasets, they're real world data!**"
   ]
  },
  {
   "cell_type": "markdown",
   "id": "707f9064-9dd5-42ce-939a-1c99ce249cfc",
   "metadata": {
    "id": "707f9064-9dd5-42ce-939a-1c99ce249cfc"
   },
   "source": [
    "To work with the [garbage classification dataset](https://www.kaggle.com/datasets/asdasdasasdas/garbage-classification), we need to download the data. We have prepared a [GitHub repository](https://github.com/MultiX-Amsterdam/image-data-module/tree/main/garbage-classification-dataset) with the dataset for you.\n",
    "\n",
    "The following code checks if you are using Google Colab or on a local machine with GPU. If you clone the repository to your local machine, there is no need to download the dataset. However, if you are on Google Colab, the code cell below will clone the dataset to the Google Colab's file disk."
   ]
  },
  {
   "cell_type": "code",
   "execution_count": null,
   "id": "hMF3-8nkJFJa",
   "metadata": {
    "colab": {
     "base_uri": "https://localhost:8080/"
    },
    "id": "hMF3-8nkJFJa",
    "outputId": "0218266d-5439-49d4-c37d-2c872997a144"
   },
   "outputs": [
    {
     "name": "stdout",
     "output_type": "stream",
     "text": [
      "fatal: destination path 'image-data-module' already exists and is not an empty directory.\n",
      "['trash', 'metal', 'plastic', 'cardboard', 'glass', 'paper']\n"
     ]
    }
   ],
   "source": [
    "# This is the relative path for data if you clone the repository to a local machine\n",
    "data_dir  = 'garbage-classification-dataset/garbage-classification-images'\n",
    "try:\n",
    "  classes = os.listdir(data_dir)\n",
    "  print(classes)\n",
    "except:\n",
    "  # This means that we are not on a local machine, so we need to clone the dataset\n",
    "  !git clone https://github.com/MultiX-Amsterdam/image-data-module\n",
    "  # Below is the path of the data on the Google Colab disk\n",
    "  data_dir  = '/content/image-data-module/garbage-classification-dataset/garbage-classification-images'\n",
    "  classes = os.listdir(data_dir)\n",
    "  print(classes)"
   ]
  },
  {
   "cell_type": "markdown",
   "id": "9d8d3eee-1771-4acb-843e-eb8af16c7342",
   "metadata": {
    "id": "9d8d3eee-1771-4acb-843e-eb8af16c7342"
   },
   "source": [
    "### Transform Data"
   ]
  },
  {
   "cell_type": "markdown",
   "id": "7456ccea-fb91-4e54-93e7-677e8bfeddcd",
   "metadata": {
    "id": "7456ccea-fb91-4e54-93e7-677e8bfeddcd"
   },
   "source": [
    "To input the data into a machine learning algorithm, we need to transform the dataset into a normalized tensor. We can do this using PyTorch's built-in transforms module."
   ]
  },
  {
   "cell_type": "code",
   "execution_count": null,
   "id": "48a3d62b-4882-4d69-9e44-f9572aa3e91a",
   "metadata": {
    "id": "48a3d62b-4882-4d69-9e44-f9572aa3e91a"
   },
   "outputs": [],
   "source": [
    "from torchvision.datasets import ImageFolder\n",
    "import torchvision.transforms as transforms\n",
    "\n",
    "transformations = transforms.Compose([transforms.Resize((256, 256)), transforms.CenterCrop(224), transforms.ToTensor()])"
   ]
  },
  {
   "cell_type": "markdown",
   "id": "EcBy7me5gHQ6",
   "metadata": {
    "id": "EcBy7me5gHQ6"
   },
   "source": [
    "In this example, we're resizing the images to 256x256 pixels and cropping them to 224x224 pixels from the center. We then convert the images to tensors using transforms.ToTensor().\n"
   ]
  },
  {
   "cell_type": "code",
   "execution_count": null,
   "id": "LukPRdcdgFHq",
   "metadata": {
    "id": "LukPRdcdgFHq"
   },
   "outputs": [],
   "source": [
    "dataset = ImageFolder(data_dir, transform = transformations)"
   ]
  },
  {
   "cell_type": "markdown",
   "id": "OetxH6i8gNP8",
   "metadata": {
    "id": "OetxH6i8gNP8"
   },
   "source": [
    "We then apply these transforms to the dataset using the datasets.ImageFolder class, which automatically applies the transforms to the images in the dataset:"
   ]
  },
  {
   "cell_type": "markdown",
   "id": "eb4850dd-9367-4344-8402-4da1aeb337a2",
   "metadata": {
    "id": "eb4850dd-9367-4344-8402-4da1aeb337a2"
   },
   "source": [
    "### Visualize Data"
   ]
  },
  {
   "cell_type": "markdown",
   "id": "49fac10f-bf16-4752-b8c1-c05c4b20a7d5",
   "metadata": {
    "id": "49fac10f-bf16-4752-b8c1-c05c4b20a7d5"
   },
   "source": [
    "As we work on building our machine learning model for image classification, it's important to understand the data that we're working with. One way to gain a better understanding of the data is by visualizing it. By looking at the images in the dataset, we can get a sense of what features and patterns are present in the images, which can inform our choice of model architecture and training strategy.\n",
    "\n",
    "To visualize the data, we can use a Python library like matplotlib to display sample images from the dataset along with their corresponding labels. This can help us get a sense of what types of images are present in the dataset, and how they are distributed across different classes.\n",
    "\n",
    "To make this process easier, we can define a function that takes in a dataset object and displays a grid of images along with their corresponding labels. This function can be called at any point during our analysis to visualize the data and gain a better understanding of the images we're working with.\n",
    "\n",
    "As we continue to work on building our machine learning model, we'll be using this function to visualize the data and its classes, and gain insights that will help us build a better model."
   ]
  },
  {
   "cell_type": "code",
   "execution_count": null,
   "id": "7af3840a-77a9-481f-85d3-afcfcb132ffc",
   "metadata": {
    "id": "7af3840a-77a9-481f-85d3-afcfcb132ffc"
   },
   "outputs": [],
   "source": [
    "%matplotlib inline\n",
    "\n",
    "def show_sample(img, label):\n",
    "    print(\"Label:\", dataset.classes[label], \"(Class No: \"+ str(label) + \")\")\n",
    "    plt.imshow(img.permute(1, 2, 0))"
   ]
  },
  {
   "cell_type": "code",
   "execution_count": null,
   "id": "57e0548f-bf9f-4a4f-9686-3c551f6dc9b9",
   "metadata": {
    "colab": {
     "base_uri": "https://localhost:8080/",
     "height": 287
    },
    "id": "57e0548f-bf9f-4a4f-9686-3c551f6dc9b9",
    "outputId": "1d1b7552-66f5-4fdb-d667-68ac99329b6b"
   },
   "outputs": [
    {
     "name": "stdout",
     "output_type": "stream",
     "text": [
      "Label: cardboard (Class No: 0)\n"
     ]
    },
    {
     "data": {
      "image/png": "[encoded data removed]",
      "text/plain": [
       "<Figure size 432x288 with 1 Axes>"
      ]
     },
     "metadata": {
      "needs_background": "light"
     },
     "output_type": "display_data"
    }
   ],
   "source": [
    "img, label = dataset[2]\n",
    "show_sample(img, label)"
   ]
  },
  {
   "cell_type": "markdown",
   "id": "fAXUrTyFg2Ep",
   "metadata": {
    "id": "fAXUrTyFg2Ep"
   },
   "source": [
    "### Split Data\n",
    "\n",
    "In order to train our machine learning model, we need to split our data into training, validation, and test sets. We need to set a seed for the random number generator. This ensures that our data is split in a consistent way each time we run our code, which is important for reproducibility. In the code snippet below, we set the random seed to 23 and the manual seed to ensure that the split is consistent."
   ]
  },
  {
   "cell_type": "code",
   "execution_count": null,
   "id": "192df352-a580-4aad-97d7-9e4daad52052",
   "metadata": {
    "colab": {
     "base_uri": "https://localhost:8080/"
    },
    "id": "192df352-a580-4aad-97d7-9e4daad52052",
    "outputId": "be6e6dc4-1a2c-4e73-a55d-74ca639a811d"
   },
   "outputs": [
    {
     "data": {
      "text/plain": [
       "<torch._C.Generator at 0x7f4558da7af0>"
      ]
     },
     "execution_count": 93,
     "metadata": {},
     "output_type": "execute_result"
    }
   ],
   "source": [
    "#Setting a seed for the random split of data:\n",
    "\n",
    "random_seed = 23\n",
    "torch.manual_seed(random_seed)"
   ]
  },
  {
   "cell_type": "markdown",
   "id": "35ttfjPLhPm8",
   "metadata": {
    "id": "35ttfjPLhPm8"
   },
   "source": [
    "Once the seed is set, we can split our dataset into training, validation, and test sets. In the code snippet below, we use PyTorch's random_split function to split our dataset into three sets: 1593 images for training, 176 images for validation, and 758 images for testing."
   ]
  },
  {
   "cell_type": "code",
   "execution_count": null,
   "id": "Fb-o7oVehPMp",
   "metadata": {
    "colab": {
     "base_uri": "https://localhost:8080/"
    },
    "id": "Fb-o7oVehPMp",
    "outputId": "812c996d-79a7-4c40-f5b1-f3f637b5e2a6"
   },
   "outputs": [
    {
     "data": {
      "text/plain": [
       "(1593, 176, 758)"
      ]
     },
     "execution_count": 94,
     "metadata": {},
     "output_type": "execute_result"
    }
   ],
   "source": [
    "# Splitting the data:\n",
    "\n",
    "train_ds, val_ds, test_ds = random_split(dataset, [1593, 176, 758])\n",
    "len(train_ds), len(val_ds), len(test_ds)"
   ]
  },
  {
   "cell_type": "markdown",
   "id": "WmUJ_S0qhd9I",
   "metadata": {
    "id": "WmUJ_S0qhd9I"
   },
   "source": [
    "### Build a Dataloader\n",
    "\n",
    "Finally, we can load our dataset into PyTorch data loaders, which will allow us to efficiently feed the data into our machine learning model. In the code snippet below, we define data loaders for our training and validation sets, with a batch size of 32 for the training data and a batch size of 64 for the validation data. We also set the shuffle, num_workers, and pin_memory parameters to optimize the data loading process.\n",
    "\n",
    "Keep in mind that the batch size is a hyperparameter that you can tune. However, setting the batch size to a large number may not be a good idea if your GPU and computer only have a small computer memory. Using a larger batch size consumes more computer and GPU memory."
   ]
  },
  {
   "cell_type": "code",
   "execution_count": null,
   "id": "5Rk33kYnhhNC",
   "metadata": {
    "colab": {
     "base_uri": "https://localhost:8080/"
    },
    "id": "5Rk33kYnhhNC",
    "outputId": "29611ff3-d9bb-4343-fe50-84a46d0948e6"
   },
   "outputs": [
    {
     "name": "stderr",
     "output_type": "stream",
     "text": [
      "/usr/local/lib/python3.9/dist-packages/torch/utils/data/dataloader.py:554: UserWarning: This DataLoader will create 4 worker processes in total. Our suggested max number of worker in current system is 2, which is smaller than what this DataLoader is going to create. Please be aware that excessive worker creation might get DataLoader running slow or even freeze, lower the worker number to avoid potential slowness/freeze if necessary.\n",
      "  warnings.warn(_create_warning_msg(\n"
     ]
    }
   ],
   "source": [
    "# Loading the data\n",
    "\n",
    "batch_size = 32\n",
    "\n",
    "train_dl = DataLoader(train_ds, batch_size, shuffle = True, num_workers = 4, pin_memory = True)\n",
    "val_dl = DataLoader(val_ds, batch_size*2, num_workers = 4, pin_memory = True)"
   ]
  },
  {
   "cell_type": "markdown",
   "id": "7c6db105-a805-4ca1-8cf3-5e161c1f378e",
   "metadata": {
    "id": "7c6db105-a805-4ca1-8cf3-5e161c1f378e"
   },
   "source": [
    "### Check the Dataloader"
   ]
  },
  {
   "cell_type": "markdown",
   "id": "3eGW6NLaiSrM",
   "metadata": {
    "id": "3eGW6NLaiSrM"
   },
   "source": [
    "As we mentioned earlier, visualizing our data is an important step in the machine learning process. By looking at sample images from our dataset, we can gain insights into the structure of the data and identify any issues with preprocessing or data loading.\n",
    "\n",
    "To make the visualization process easier, we can define a function called show_batch that takes in a PyTorch data loader and displays a grid of images from the batch along with their corresponding labels. This can help us identify patterns and features in the images, and ensure that our data is being loaded and preprocessed correctly.\n",
    "\n",
    "In the code snippet below, we define the show_batch function. This function takes in a data loader object and displays a grid of images from the batch along with their corresponding labels. We use the make_grid function to create a grid of images from the batch, with 16 images per row. The permute function is used to change the order of the dimensions of the tensor to match the expected input format for imshow.\n",
    "\n"
   ]
  },
  {
   "cell_type": "code",
   "execution_count": null,
   "id": "144c27a3-2011-457a-81d3-96e212e8cfff",
   "metadata": {
    "id": "144c27a3-2011-457a-81d3-96e212e8cfff"
   },
   "outputs": [],
   "source": [
    "# As before, we have a simple tool for visualization\n",
    "\n",
    "def show_batch(dl):\n",
    "    for images, labels in dl:\n",
    "        fig, ax = plt.subplots(figsize=(12, 6))\n",
    "        ax.set_xticks([])\n",
    "        ax.set_yticks([])\n",
    "        ax.imshow(make_grid(images, nrow = 16).permute(1, 2, 0))\n",
    "        break"
   ]
  },
  {
   "cell_type": "code",
   "execution_count": null,
   "id": "a5eaaf67-66a3-4c06-b486-52df1e4e6302",
   "metadata": {
    "colab": {
     "base_uri": "https://localhost:8080/",
     "height": 118
    },
    "id": "a5eaaf67-66a3-4c06-b486-52df1e4e6302",
    "outputId": "eb7adef0-dbf4-4ec2-d437-3e7cdf47c361"
   },
   "outputs": [
    {
     "data": {
      "image/png": "[encoded data removed]",
      "text/plain": [
       "<Figure size 864x432 with 1 Axes>"
      ]
     },
     "metadata": {},
     "output_type": "display_data"
    }
   ],
   "source": [
    "show_batch(train_dl)"
   ]
  },
  {
   "cell_type": "markdown",
   "id": "D3kA8l9Qkn5g",
   "metadata": {
    "id": "D3kA8l9Qkn5g"
   },
   "source": [
    "Now that we've had a chance to visualize our data and ensure that our data loading and preprocessing is working correctly, it's time to move on to the main part of our machine learning implementation: network creation.\n",
    "\n",
    "Our goal is to build a neural network that can accurately classify images into different categories. To do this, we'll need to create a network architecture that is appropriate for the task at hand. This can involve a variety of decisions, such as the number of layers in the network, the size of the filters used in convolutional layers, and the activation functions used throughout the network.\n",
    "\n",
    "Building a neural network can be a complex process, but fortunately, we have powerful tools and libraries available to simplify the task. We'll be using PyTorch, a popular deep learning framework, to build our network."
   ]
  },
  {
   "cell_type": "markdown",
   "id": "XqfFr9yPZ2gj",
   "metadata": {
    "id": "XqfFr9yPZ2gj"
   },
   "source": [
    "## Build the Pipeline"
   ]
  },
  {
   "cell_type": "markdown",
   "id": "Vks9XEBHbi1q",
   "metadata": {
    "id": "Vks9XEBHbi1q"
   },
   "source": [
    "In order to train and evaluate our neural network, we'll need to be able to load our pre-processed data into our model and assess its performance on our validation and test sets. To do this, we have two critical functions at our disposal: data loading and model evaluation.\n",
    "\n",
    "Data loading involves reading our pre-processed data from disk and converting it into a format that can be input into our neural network. This can involve operations such as loading images, transforming them into tensors, and creating batches for efficient processing. By properly loading our data, we can ensure that our network is able to process the data effectively and accurately.\n",
    "\n",
    "Model evaluation, on the other hand, involves assessing the performance of our neural network on our validation and test sets. We'll be using a variety of metrics, such as accuracy and F1 score, to evaluate the performance of our model. This is critical for determining how well our network is able to classify images and whether it is ready for deployment."
   ]
  },
  {
   "cell_type": "code",
   "execution_count": null,
   "id": "3K7ADcKn_Fr7",
   "metadata": {
    "id": "3K7ADcKn_Fr7"
   },
   "outputs": [],
   "source": [
    "import torch\n",
    "import torch.nn as nn\n",
    "import torch.nn.functional as F\n",
    "import torchvision.models as models\n",
    "\n",
    "class ImageClassificationBase(nn.Module):\n",
    "    def accuracy(self, outputs, labels):\n",
    "        _, preds = torch.max(outputs, dim=1)\n",
    "        return torch.tensor(torch.sum(preds == labels).item() / len(preds))\n",
    "    \n",
    "    def training_step(self, batch):\n",
    "        images, labels = batch \n",
    "        out = self(images)                  # Generate predictions\n",
    "        loss = F.cross_entropy(out, labels) # Calculate loss\n",
    "        return loss\n",
    "    \n",
    "    def validation_step(self, batch):\n",
    "        images, labels = batch \n",
    "        out = self(images)                    # Generate predictions\n",
    "        loss = F.cross_entropy(out, labels)   # Calculate loss\n",
    "        acc = self.accuracy(out, labels)      # Calculate accuracy\n",
    "        return {'val_loss': loss.detach(), 'val_acc': acc}\n",
    "        \n",
    "    def validation_epoch_end(self, outputs):\n",
    "        batch_losses = [x['val_loss'] for x in outputs]\n",
    "        epoch_loss = torch.stack(batch_losses).mean()   # Combine losses\n",
    "        batch_accs = [x['val_acc'] for x in outputs]\n",
    "        epoch_acc = torch.stack(batch_accs).mean()      # Combine accuracies\n",
    "        return {'val_loss': epoch_loss.item(), 'val_acc': epoch_acc.item()}\n",
    "    \n",
    "    def epoch_end(self, epoch, result):\n",
    "        print(\"Epoch {}: train_loss: {:.4f}, val_loss: {:.4f}, val_acc: {:.4f}\".format(\n",
    "            epoch+1, result['train_loss'], result['val_loss'], result['val_acc']))\n",
    "\n",
    "def get_default_device():\n",
    "    \"\"\"Pick GPU if available, else CPU\"\"\"\n",
    "    if torch.cuda.is_available():\n",
    "        return torch.device('cuda')\n",
    "    else:\n",
    "        return torch.device('cpu')\n",
    "\n",
    "def to_device(data, device):\n",
    "    \"\"\"Move tensor(s) to chosen device\"\"\"\n",
    "    if isinstance(data, (list,tuple)):\n",
    "        return [to_device(x, device) for x in data]\n",
    "    return data.to(device, non_blocking=True)\n",
    "\n",
    "class DeviceDataLoader():\n",
    "    \"\"\"Wrap a dataloader to move data to a device\"\"\"\n",
    "    def __init__(self, dl, device):\n",
    "        self.dl = dl\n",
    "        self.device = device\n",
    "        \n",
    "    def __iter__(self):\n",
    "        \"\"\"Yield a batch of data after moving it to device\"\"\"\n",
    "        for b in self.dl:\n",
    "            yield to_device(b, self.device)\n",
    "\n",
    "    def __len__(self):\n",
    "        \"\"\"Number of batches\"\"\"\n",
    "        return len(self.dl)\n",
    "\n",
    "@torch.no_grad()\n",
    "def evaluate(model, val_loader):\n",
    "    model.eval()\n",
    "    outputs = [model.validation_step(batch) for batch in val_loader]\n",
    "    return model.validation_epoch_end(outputs)\n",
    "\n",
    "def fit(epochs, lr, model, train_loader, val_loader, opt_func=torch.optim.SGD):\n",
    "    history = []\n",
    "    optimizer = opt_func(model.parameters(), lr)\n",
    "    for epoch in range(epochs):\n",
    "        # Training Phase \n",
    "        model.train()\n",
    "        train_losses = []\n",
    "        for batch in train_loader:\n",
    "            loss = model.training_step(batch)\n",
    "            train_losses.append(loss)\n",
    "            loss.backward()\n",
    "            optimizer.step()\n",
    "            optimizer.zero_grad()\n",
    "        \n",
    "        # Validation phase\n",
    "        result = evaluate(model, val_loader)\n",
    "        result['train_loss'] = torch.stack(train_losses).mean().item()\n",
    "        model.epoch_end(epoch, result)\n",
    "        history.append(result)\n",
    "        \n",
    "    return history"
   ]
  },
  {
   "cell_type": "markdown",
   "id": "fN5uNrxx4YUN",
   "metadata": {
    "id": "fN5uNrxx4YUN"
   },
   "source": [
    "After completing the initial data wrangling and evaluation, we're now ready to move onto the exciting part of our machine learning implementation: tweaking and evaluating our neural networks.\n",
    "\n",
    "We have several different neural networks that we'll be working with, all based on the ResNet50 architecture, but with key differences. Each network has been created and initialized with specific goals and objectives in mind. While some of the methods used may be exaggerated for the purposes of demonstrating key concepts, it's important to keep in mind that each of these methods plays a critical role in the overall performance of our network.\n",
    "\n",
    "During our evaluation process, we'll be focusing primarily on accuracy as our key metric for assessing the performance of our neural networks. By analyzing the accuracy of our networks, we can determine how well they are able to classify images and identify areas where they may be struggling. While there are other metrics, such as F1 score and confusion matrices, that can also provide valuable insights into the performance of our networks, we'll be primarily focusing on accuracy to streamline our evaluation process.\n",
    "\n",
    "Throughout this process, you'll be asked a series of questions about our neural networks and their performance. By fully engaging with this process, you'll gain a deeper understanding of the key concepts and techniques involved in building and evaluating machine learning models. So let's dive in and start building our networks!\n",
    "\n",
    "As you work through our implementation, you may (hopefully) notice that some of the features of our neural networks are exaggerated or skewed for specific goals. For example, we may use extreme weight initialization techniques to emphasize the importance of proper weight initialization, or to allow the network to display certain traits. While these features may not always be representative of real-world scenarios, they can be helpful in highlighting key concepts and techniques that are critical for success in machine learning. By understanding the reasoning behind these exaggerated features, you'll be better equipped to apply these techniques in real-world situations and achieve better performance from your neural networks.\n",
    "\n",
    "Below you'll see the Network Architecture for ResNet50 - It's interesting to see the complex detail behind recognizing features, and determining their importance for a classification problem, we will be using tweaked versions of this CNN for our CNN's. The ResNet architecture is explained in the following paper:\n",
    "- [He, K., Zhang, X., Ren, S., & Sun, J. (2016). Deep residual learning for image recognition. In Proceedings of the IEEE conference on computer vision and pattern recognition (pp. 770-778).](https://arxiv.org/pdf/1512.03385.pdf)\n",
    "\n",
    "Notice that in this tutorial, to save computational time, we are going to use the ResNet18 structure, which is a smaller version of the ResNet."
   ]
  },
  {
   "cell_type": "markdown",
   "id": "l2k2b_g_iaGb",
   "metadata": {
    "id": "l2k2b_g_iaGb"
   },
   "source": [
    "![](https://github.com/MultiX-Amsterdam/image-data-module/blob/main/images/resnet50.png?raw=true)\n",
    "\n",
    "Image source -- https://doi.org/10.3390/s20020447"
   ]
  },
  {
   "cell_type": "markdown",
   "id": "4qR7TlkrP_wi",
   "metadata": {
    "id": "4qR7TlkrP_wi"
   },
   "source": [
    "### Task 3: Optimizer\n",
    "\n",
    "Now let us create a basic ResNet for this task.\n",
    "\n",
    "In the code below, we first use `get_default_device()` to get the default device (CPU or GPU) for training. We then initialize our `ResNetGaussianWeight` model and move it to the device using `to_device()`. Next, we move our training and validation data loaders to the device using `DeviceDataLoader()`. We set the number of epochs using `num_epochs`, and select the optimizer and learning rate using `opt_func` and `lr`, respectively. Finally, we train the model using the `fit()` function and store the training history in history.\n",
    "\n",
    "It is worth noting that this is the only time we will be breaking down this specific block of code in such detail. From here on out, we will assume a basic understanding of the concepts and functions used in this code and focus on the unique features and characteristics of each neural network we explore."
   ]
  },
  {
   "cell_type": "code",
   "execution_count": null,
   "id": "tErowZGBQEKB",
   "metadata": {
    "colab": {
     "base_uri": "https://localhost:8080/"
    },
    "id": "tErowZGBQEKB",
    "outputId": "1ae9ceae-636f-407e-c142-b8f59e7cabe3"
   },
   "outputs": [
    {
     "name": "stdout",
     "output_type": "stream",
     "text": [
      "Epoch 1: train_loss: 1.7915, val_loss: 1.7916, val_acc: 0.2708\n",
      "Epoch 2: train_loss: 1.7742, val_loss: 1.7876, val_acc: 0.2708\n",
      "Epoch 3: train_loss: 1.7286, val_loss: 2.0355, val_acc: 0.2708\n",
      "Epoch 4: train_loss: 1.6708, val_loss: 2.0788, val_acc: 0.2708\n",
      "Epoch 5: train_loss: 1.6321, val_loss: 3.9900, val_acc: 0.2708\n",
      "Epoch 6: train_loss: 1.6225, val_loss: 1.7706, val_acc: 0.2240\n",
      "Epoch 7: train_loss: 1.5957, val_loss: 1.7035, val_acc: 0.2882\n",
      "Epoch 8: train_loss: 1.5823, val_loss: 1.8720, val_acc: 0.2760\n",
      "Epoch 9: train_loss: 1.5763, val_loss: 1.7017, val_acc: 0.2969\n",
      "Epoch 10: train_loss: 1.5567, val_loss: 2.4860, val_acc: 0.3021\n"
     ]
    }
   ],
   "source": [
    "class ResNetGaussianWeight(ImageClassificationBase):\n",
    "    def __init__(self):\n",
    "        super().__init__()\n",
    "        # Use a pretrained model\n",
    "        self.network = models.resnet18(pretrained=False)\n",
    "        # Replace last layer\n",
    "        num_ftrs = self.network.fc.in_features\n",
    "        self.network.fc = nn.Linear(num_ftrs, len(dataset.classes))\n",
    "        \n",
    "        # Gaussian random weight initialization for all the weights\n",
    "        for module in self.network.modules():\n",
    "            if isinstance(module, nn.Linear) or isinstance(module, nn.Conv2d):\n",
    "                init.normal_(module.weight, mean=0, std=0.0001)\n",
    "                if module.bias is not None:\n",
    "                    init.constant_(module.bias, 0)\n",
    "\n",
    "    def forward(self, xb):\n",
    "        return self.network(xb)\n",
    "\n",
    "\n",
    "device = get_default_device() # get the default device for training\n",
    "model = ResNetGaussianWeight() # initialize the ResNet model\n",
    "model = to_device(model, device) # move the model to the device (CPU or GPU)\n",
    "train_dl = DeviceDataLoader(train_dl, device) # move the training data loader to the device\n",
    "val_dl = DeviceDataLoader(val_dl, device) # move the validation data loader to the device\n",
    "\n",
    "num_epochs = 10 # set the number of epochs\n",
    "opt_func = torch.optim.SGD # set the optimizer\n",
    "lr = 1e-4 # set the learning rate\n",
    "\n",
    "history = fit(num_epochs, lr, model, train_dl, val_dl, opt_func) # train the model and store the training history"
   ]
  },
  {
   "cell_type": "markdown",
   "id": "RDSg4akPQi6w",
   "metadata": {
    "id": "RDSg4akPQi6w"
   },
   "source": [
    "The code above uses the [SGD](https://pytorch.org/docs/stable/generated/torch.optim.SGD.html) (Stochastic Gradient Descent) optimizer. Now let us change the optimizer to [Adam](https://pytorch.org/docs/stable/generated/torch.optim.Adam.html), which is explained in the following paper:\n",
    "- [Kingma, D. P., & Ba, J. (2014). Adam: A method for stochastic optimization. arXiv preprint arXiv:1412.6980.](https://arxiv.org/pdf/1412.6980.pdf)"
   ]
  },
  {
   "cell_type": "code",
   "execution_count": null,
   "id": "p5LIoeh9QeoC",
   "metadata": {
    "colab": {
     "base_uri": "https://localhost:8080/"
    },
    "id": "p5LIoeh9QeoC",
    "outputId": "a23dcb89-1bbf-4485-c3eb-1c0c7dd5514d"
   },
   "outputs": [
    {
     "name": "stdout",
     "output_type": "stream",
     "text": [
      "Epoch 1: train_loss: 1.6582, val_loss: 2.1137, val_acc: 0.1788\n",
      "Epoch 2: train_loss: 1.5425, val_loss: 3.0541, val_acc: 0.1458\n",
      "Epoch 3: train_loss: 1.4727, val_loss: 2.0399, val_acc: 0.3785\n",
      "Epoch 4: train_loss: 1.3819, val_loss: 2.5194, val_acc: 0.3628\n",
      "Epoch 5: train_loss: 1.3839, val_loss: 1.4887, val_acc: 0.3420\n",
      "Epoch 6: train_loss: 1.3467, val_loss: 1.3102, val_acc: 0.4670\n",
      "Epoch 7: train_loss: 1.2960, val_loss: 1.8422, val_acc: 0.4427\n",
      "Epoch 8: train_loss: 1.3007, val_loss: 1.1497, val_acc: 0.5243\n",
      "Epoch 9: train_loss: 1.2715, val_loss: 1.4066, val_acc: 0.3958\n",
      "Epoch 10: train_loss: 1.2366, val_loss: 2.4419, val_acc: 0.5208\n"
     ]
    }
   ],
   "source": [
    "device = get_default_device() # get the default device for training\n",
    "model = ResNetGaussianWeight() # initialize the ResNet model\n",
    "model = to_device(model, device) # move the model to the device (CPU or GPU)\n",
    "train_dl = DeviceDataLoader(train_dl, device) # move the training data loader to the device\n",
    "val_dl = DeviceDataLoader(val_dl, device) # move the validation data loader to the device\n",
    "\n",
    "num_epochs = 10 # set the number of epochs\n",
    "opt_func = torch.optim.Adam # set the optimizer\n",
    "lr = 1e-4 # set the learning rate\n",
    "\n",
    "history = fit(num_epochs, lr, model, train_dl, val_dl, opt_func) # train the model and store the training history"
   ]
  },
  {
   "cell_type": "markdown",
   "id": "45rbNwrFR-To",
   "metadata": {
    "id": "45rbNwrFR-To"
   },
   "source": [
    "#### Assignment 3\n",
    "\n",
    "In this task, we used two different optimizers while keeping all other settings and hyperparameters the same. What do you observe for the evaluation results? What are the differences?\n",
    "\n",
    "YOUR ANSWER HERE"
   ]
  },
  {
   "cell_type": "markdown",
   "id": "rflsiwP3lTgI",
   "metadata": {
    "id": "rflsiwP3lTgI"
   },
   "source": [
    "### Task 4: Learning Rate\n",
    "\n",
    "Continue Task 3, now let us keep using the SGD optimizer while lowering the learning rate."
   ]
  },
  {
   "cell_type": "code",
   "execution_count": null,
   "id": "_NAKSb1WT0Tb",
   "metadata": {
    "colab": {
     "base_uri": "https://localhost:8080/"
    },
    "id": "_NAKSb1WT0Tb",
    "outputId": "ab7ac92f-6113-4fca-a812-c2392fc501e8"
   },
   "outputs": [
    {
     "name": "stdout",
     "output_type": "stream",
     "text": [
      "Epoch 1: train_loss: 1.7918, val_loss: 1.7918, val_acc: 0.1441\n",
      "Epoch 2: train_loss: 1.7918, val_loss: 1.7918, val_acc: 0.1493\n",
      "Epoch 3: train_loss: 1.7918, val_loss: 1.7918, val_acc: 0.1181\n",
      "Epoch 4: train_loss: 1.7918, val_loss: 1.7918, val_acc: 0.1372\n",
      "Epoch 5: train_loss: 1.7918, val_loss: 1.7918, val_acc: 0.1267\n",
      "Epoch 6: train_loss: 1.7918, val_loss: 1.7918, val_acc: 0.1250\n",
      "Epoch 7: train_loss: 1.7918, val_loss: 1.7918, val_acc: 0.1372\n",
      "Epoch 8: train_loss: 1.7918, val_loss: 1.7918, val_acc: 0.1372\n",
      "Epoch 9: train_loss: 1.7918, val_loss: 1.7918, val_acc: 0.1319\n",
      "Epoch 10: train_loss: 1.7918, val_loss: 1.7918, val_acc: 0.1198\n"
     ]
    }
   ],
   "source": [
    "device = get_default_device() # get the default device for training\n",
    "model = ResNetGaussianWeight() # initialize the ResNet model\n",
    "model = to_device(model, device) # move the model to the device (CPU or GPU)\n",
    "train_dl = DeviceDataLoader(train_dl, device) # move the training data loader to the device\n",
    "val_dl = DeviceDataLoader(val_dl, device) # move the validation data loader to the device\n",
    "\n",
    "num_epochs = 10 # set the number of epochs\n",
    "opt_func = torch.optim.SGD # set the optimizer\n",
    "lr = 1e-8 # set the learning rate\n",
    "\n",
    "history = fit(num_epochs, lr, model, train_dl, val_dl, opt_func) # train the model and store the training history"
   ]
  },
  {
   "cell_type": "markdown",
   "id": "AiYZZG3tT2w-",
   "metadata": {
    "id": "AiYZZG3tT2w-"
   },
   "source": [
    "Now let us increase the learning rate to a large number and still keep using the SGD optimizer."
   ]
  },
  {
   "cell_type": "code",
   "execution_count": null,
   "id": "9mOrfAmjT8GH",
   "metadata": {
    "colab": {
     "base_uri": "https://localhost:8080/"
    },
    "id": "9mOrfAmjT8GH",
    "outputId": "11a5e48d-2fcd-4fc4-92f6-b9277e37403d"
   },
   "outputs": [
    {
     "name": "stdout",
     "output_type": "stream",
     "text": [
      "Epoch 1: train_loss: 63.9864, val_loss: 4.8498, val_acc: 0.1788\n",
      "Epoch 2: train_loss: 2.6399, val_loss: 3.1096, val_acc: 0.1788\n",
      "Epoch 3: train_loss: 2.3897, val_loss: 4.2122, val_acc: 0.1441\n",
      "Epoch 4: train_loss: 2.5924, val_loss: 6.6786, val_acc: 0.1441\n",
      "Epoch 5: train_loss: 2.7379, val_loss: 3.1218, val_acc: 0.1441\n",
      "Epoch 6: train_loss: 3.4827, val_loss: 4.5292, val_acc: 0.1441\n",
      "Epoch 7: train_loss: 2.8348, val_loss: 6.5850, val_acc: 0.1441\n",
      "Epoch 8: train_loss: 2.5733, val_loss: 4.2799, val_acc: 0.1441\n",
      "Epoch 9: train_loss: 2.3948, val_loss: 9.4603, val_acc: 0.2708\n",
      "Epoch 10: train_loss: 2.5807, val_loss: 4.2524, val_acc: 0.1441\n"
     ]
    }
   ],
   "source": [
    "device = get_default_device() # get the default device for training\n",
    "model = ResNetGaussianWeight() # initialize the ResNet model\n",
    "model = to_device(model, device) # move the model to the device (CPU or GPU)\n",
    "train_dl = DeviceDataLoader(train_dl, device) # move the training data loader to the device\n",
    "val_dl = DeviceDataLoader(val_dl, device) # move the validation data loader to the device\n",
    "\n",
    "num_epochs = 10 # set the number of epochs\n",
    "opt_func = torch.optim.SGD # set the optimizer\n",
    "lr = 12 # set the learning rate\n",
    "\n",
    "history = fit(num_epochs, lr, model, train_dl, val_dl, opt_func) # train the model and store the training history"
   ]
  },
  {
   "cell_type": "markdown",
   "id": "x3Tj3JWNUBHt",
   "metadata": {
    "id": "x3Tj3JWNUBHt"
   },
   "source": [
    "#### Assignment 4\n",
    "\n",
    "In this task, we used two different learning rates while keeping all other settings and hyperparameters the same. What do you observe for the evaluation results? What are the differences of these results when compared to the SGD optimizer version in Task 3?\n",
    "\n",
    "YOUR ANSWER HERE"
   ]
  },
  {
   "cell_type": "markdown",
   "id": "tIQA-Yl_8eaL",
   "metadata": {
    "id": "tIQA-Yl_8eaL"
   },
   "source": [
    "### Task 5: Weight Initiation\n",
    "\n",
    "Next, let us initialize all the model weights to zero. We still keep using the SGD optimizer and keep the learning rate the same as the one used in Task 3."
   ]
  },
  {
   "cell_type": "code",
   "execution_count": null,
   "id": "aVWIk_v473_u",
   "metadata": {
    "colab": {
     "base_uri": "https://localhost:8080/"
    },
    "id": "aVWIk_v473_u",
    "outputId": "f18887a2-c043-43c8-a60a-15a1b42c25f2"
   },
   "outputs": [
    {
     "name": "stdout",
     "output_type": "stream",
     "text": [
      "Epoch 1: train_loss: 1.7917, val_loss: 1.7917, val_acc: 0.2708\n",
      "Epoch 2: train_loss: 1.7916, val_loss: 1.7916, val_acc: 0.2708\n",
      "Epoch 3: train_loss: 1.7915, val_loss: 1.7915, val_acc: 0.2708\n",
      "Epoch 4: train_loss: 1.7914, val_loss: 1.7914, val_acc: 0.2708\n",
      "Epoch 5: train_loss: 1.7914, val_loss: 1.7913, val_acc: 0.2708\n",
      "Epoch 6: train_loss: 1.7913, val_loss: 1.7912, val_acc: 0.2708\n",
      "Epoch 7: train_loss: 1.7912, val_loss: 1.7911, val_acc: 0.2708\n",
      "Epoch 8: train_loss: 1.7911, val_loss: 1.7910, val_acc: 0.2708\n",
      "Epoch 9: train_loss: 1.7910, val_loss: 1.7909, val_acc: 0.2708\n",
      "Epoch 10: train_loss: 1.7909, val_loss: 1.7908, val_acc: 0.2708\n"
     ]
    }
   ],
   "source": [
    "class ResNetZeroWeight(ImageClassificationBase):\n",
    "    def __init__(self):\n",
    "        super().__init__()\n",
    "        # Use a pretrained model\n",
    "        self.network = models.resnet18(pretrained=False)\n",
    "        # Replace last layer\n",
    "        num_ftrs = self.network.fc.in_features\n",
    "        self.network.fc = nn.Linear(num_ftrs, len(dataset.classes))\n",
    "        \n",
    "        # Zero weight initialization for all the weights\n",
    "        for module in self.network.modules():\n",
    "            if isinstance(module, nn.Linear) or isinstance(module, nn.Conv2d):\n",
    "                init.zeros_(module.weight)\n",
    "                if module.bias is not None:\n",
    "                      init.zeros_(module.bias)\n",
    "\n",
    "    def forward(self, xb):\n",
    "        return self.network(xb)\n",
    "\n",
    "\n",
    "device = get_default_device() # get the default device for training\n",
    "model = ResNetZeroWeight() # initialize the ResNet model\n",
    "model = to_device(model, device) # move the model to the device (CPU or GPU)\n",
    "train_dl = DeviceDataLoader(train_dl, device) # move the training data loader to the device\n",
    "val_dl = DeviceDataLoader(val_dl, device) # move the validation data loader to the device\n",
    "\n",
    "num_epochs = 10 # set the number of epochs\n",
    "opt_func = torch.optim.SGD # set the optimizer\n",
    "lr = 1e-4 # set the learning rate\n",
    "\n",
    "history = fit(num_epochs, lr, model, train_dl, val_dl, opt_func) # train the model and store the training history"
   ]
  },
  {
   "cell_type": "markdown",
   "id": "I9yJXXubR381",
   "metadata": {
    "id": "I9yJXXubR381"
   },
   "source": [
    "Besides the Gaussian weight initialization that we used in the previous task, we can also use uniform weight initialization. The method is documented in the following paper and has been used widely.\n",
    "- [He, K., Zhang, X., Ren, S., & Sun, J. (2015). Delving deep into rectifiers: Surpassing human-level performance on imagenet classification. In Proceedings of the IEEE international conference on computer vision (pp. 1026-1034).](https://arxiv.org/pdf/1502.01852.pdf)\n",
    "\n",
    "In the following code, we change only the weight initialization. We still keep using the SGD optimizer and keep the learning rate the same as the one used in Task 3.\n"
   ]
  },
  {
   "cell_type": "code",
   "execution_count": null,
   "id": "Ac68--T3f48o",
   "metadata": {
    "colab": {
     "base_uri": "https://localhost:8080/"
    },
    "id": "Ac68--T3f48o",
    "outputId": "a187207b-b1bc-44c9-ef8e-5c0e62e450af"
   },
   "outputs": [
    {
     "name": "stdout",
     "output_type": "stream",
     "text": [
      "Epoch 1: train_loss: 1.7866, val_loss: 1.7299, val_acc: 0.3056\n",
      "Epoch 2: train_loss: 1.7077, val_loss: 1.6799, val_acc: 0.3038\n",
      "Epoch 3: train_loss: 1.6608, val_loss: 1.6215, val_acc: 0.3264\n",
      "Epoch 4: train_loss: 1.6109, val_loss: 1.5751, val_acc: 0.3455\n",
      "Epoch 5: train_loss: 1.5864, val_loss: 1.5389, val_acc: 0.3420\n",
      "Epoch 6: train_loss: 1.5542, val_loss: 1.5032, val_acc: 0.3889\n",
      "Epoch 7: train_loss: 1.5400, val_loss: 1.4781, val_acc: 0.4184\n",
      "Epoch 8: train_loss: 1.5152, val_loss: 1.4569, val_acc: 0.4253\n",
      "Epoch 9: train_loss: 1.4976, val_loss: 1.4308, val_acc: 0.4601\n",
      "Epoch 10: train_loss: 1.4816, val_loss: 1.4112, val_acc: 0.4757\n"
     ]
    }
   ],
   "source": [
    "class ResNetUniformWeight(ImageClassificationBase):\n",
    "    def __init__(self):\n",
    "        super().__init__()\n",
    "        # Use a pretrained model\n",
    "        self.network = models.resnet18(pretrained=False)\n",
    "        # Replace last layer\n",
    "        num_ftrs = self.network.fc.in_features\n",
    "        self.network.fc = nn.Linear(num_ftrs, len(dataset.classes))\n",
    "        \n",
    "        # Kaiming initialization for all the weights\n",
    "        for module in self.network.modules():\n",
    "            if isinstance(module, nn.Linear) or isinstance(module, nn.Conv2d):\n",
    "                init.kaiming_uniform_(module.weight)\n",
    "                if module.bias is not None:\n",
    "                    fan_in, _ = init._calculate_fan_in_and_fan_out(module.weight)\n",
    "                    bound = 1 / math.sqrt(fan_in)\n",
    "                    init.uniform_(module.bias, -bound, bound)\n",
    "\n",
    "    def forward(self, xb):\n",
    "        return self.network(xb)\n",
    "\n",
    "\n",
    "device = get_default_device() # get the default device for training\n",
    "model = ResNetUniformWeight() # initialize the ResNet model\n",
    "model = to_device(model, device) # move the model to the device (CPU or GPU)\n",
    "train_dl = DeviceDataLoader(train_dl, device) # move the training data loader to the device\n",
    "val_dl = DeviceDataLoader(val_dl, device) # move the validation data loader to the device\n",
    "\n",
    "num_epochs = 10 # set the number of epochs\n",
    "opt_func = torch.optim.SGD # set the optimizer\n",
    "lr = 1e-4 # set the learning rate\n",
    "\n",
    "history = fit(num_epochs, lr, model, train_dl, val_dl, opt_func) # train the model and store the training history"
   ]
  },
  {
   "cell_type": "markdown",
   "id": "c-gbtY6Tvlum",
   "metadata": {
    "id": "c-gbtY6Tvlum"
   },
   "source": [
    "#### Assignment 5\n",
    "\n",
    "This task shows you two other different ways of initializing the model weights (i.e., the model parameters). What do you observe for the evaluation results? What are the differences of these results when compared to the SGD optimizer version in Task 3?\n",
    "\n",
    "YOUR ANSWER HERE"
   ]
  },
  {
   "cell_type": "markdown",
   "id": "z8Y513xKwXlv",
   "metadata": {
    "id": "z8Y513xKwXlv"
   },
   "source": [
    "### Task 6: Experiments\n",
    "\n",
    "Now, given all of this, it is up to you to analyse these algorithms, the outcomes, and determine the variables which contribute more; the Gemeente is relying on you for the future, so do your best to understand and advise based on this."
   ]
  },
  {
   "cell_type": "markdown",
   "id": "rrVu1j1OwCq8",
   "metadata": {
    "id": "rrVu1j1OwCq8"
   },
   "source": [
    "#### Assignment 6\n",
    "\n",
    "Conduct experiments and write a short paragraph to recommend the best CNN, optimizer, and learning rate (of the ones used) for the Gemeente to carry forward in their development of a full pipeline AI garbage classifier. You can try [different network architecture](https://pytorch.org/vision/main/models.html#classification), number of epochs, learning rate, and weight initializations."
   ]
  },
  {
   "cell_type": "markdown",
   "id": "Fsn9IiTrR9Q_",
   "metadata": {
    "id": "Fsn9IiTrR9Q_"
   },
   "source": [
    "YOUR ANSWER HERE"
   ]
  },
  {
   "cell_type": "markdown",
   "id": "lsIR8Lm4wD0t",
   "metadata": {
    "id": "lsIR8Lm4wD0t"
   },
   "source": [
    "### Task 7: Theory Questions"
   ]
  },
  {
   "cell_type": "markdown",
   "id": "bGQopPK9UsNS",
   "metadata": {
    "id": "bGQopPK9UsNS"
   },
   "source": [
    "#### Assignment 7.1: Role of the Last Layer\n",
    "\n",
    "We modified the ResNet architecture to replace only the last layer for our task. The rest of the neural net remains the same as we imported the network. What is the purpose of changing the last layer of the network?"
   ]
  },
  {
   "cell_type": "markdown",
   "id": "EZ0Pv316hTPl",
   "metadata": {
    "id": "EZ0Pv316hTPl"
   },
   "source": [
    "YOUR ANSWER HERE"
   ]
  },
  {
   "cell_type": "markdown",
   "id": "Qcmg1W2qkvG4",
   "metadata": {
    "id": "Qcmg1W2qkvG4"
   },
   "source": [
    "#### Assignment 7.2: Constant Weight Initialization\n",
    "\n",
    "As you saw in Task 5, if we were not to randomize the model weights and instead initialize the weights to a constant value (or simply zero), we would encounter a famous problem of Deep Learning. Research online to discover what we call this issue, why it happens, and why randomly initializing the weights fixes this issue."
   ]
  },
  {
   "cell_type": "markdown",
   "id": "QK0Xr7ySkvBB",
   "metadata": {
    "id": "QK0Xr7ySkvBB"
   },
   "source": [
    "YOUR ANSWER HERE"
   ]
  },
  {
   "cell_type": "markdown",
   "id": "M_fevXj5ku91",
   "metadata": {
    "id": "M_fevXj5ku91"
   },
   "source": [
    "#### Assignment 7.3: Weight Initialization Comparison\n",
    "\n",
    "There are different types of weight initializations. You saw Zero, Gaussian Distributed, and Kaiming methods here. Research these methods, and try to explain briefly in your own words the strengths and weaknesses of each."
   ]
  },
  {
   "cell_type": "markdown",
   "id": "5nxI6LAmkvJe",
   "metadata": {
    "id": "5nxI6LAmkvJe"
   },
   "source": [
    "YOUR ANSWER HERE"
   ]
  },
  {
   "cell_type": "markdown",
   "id": "NpAEQLyJkvQn",
   "metadata": {
    "id": "NpAEQLyJkvQn"
   },
   "source": [
    "#### Assignment 7.4: Network Complexity\n",
    "\n",
    "You might think that a Deep Neural Network is always better. But as you saw in the tutorial, sometimes adding more layers to increase the complexity of neural networks can completely miss the point and result in worse performance. There is a famous name for this phenomenon. Find out what it is called and briefly describe why it happens and how to fix it if the architecture is to remain mostly the same."
   ]
  },
  {
   "cell_type": "markdown",
   "id": "C9YP85aJkvTG",
   "metadata": {
    "id": "C9YP85aJkvTG"
   },
   "source": [
    "YOUR ANSWER HERE"
   ]
  },
  {
   "cell_type": "markdown",
   "id": "r2IhH6xEqZCt",
   "metadata": {
    "id": "r2IhH6xEqZCt"
   },
   "source": [
    "#### Assignment 7.5: Learning Rate\n",
    "\n",
    "In Task 4, we used very low and high learning rates. This is a classic problem in Deep Learning. Identify what arises when we do this, and give your best resolutions to these issues (some of which we used)."
   ]
  },
  {
   "cell_type": "markdown",
   "id": "QWYHtA0rqZFL",
   "metadata": {
    "id": "QWYHtA0rqZFL"
   },
   "source": [
    "YOUR ANSWER HERE"
   ]
  },
  {
   "cell_type": "markdown",
   "id": "60H3cBOpV52R",
   "metadata": {
    "id": "60H3cBOpV52R"
   },
   "source": [
    "#### Assignment 7.6: Vanishing Gradient\n",
    "\n",
    "Although we did not show you here, neural networks can suffer from Vanishing Gradient. Mathematically it is because their derivative is non-linear, so in the back-propagation stage, the gradient of the loss function compared to the weights is too small. They cannot update the weights enough to make meaningful changes. There are many ways to fix these issues. Try to list as many of them as possible, and using the above information and your own further research, try to convey why these fix the issue."
   ]
  },
  {
   "cell_type": "markdown",
   "id": "hVFZzvFHaOjW",
   "metadata": {
    "id": "hVFZzvFHaOjW"
   },
   "source": [
    "YOUR ANSWER HERE"
   ]
  }
 ],
 "metadata": {
  "accelerator": "GPU",
  "colab": {
   "collapsed_sections": [
    "m8ChJXPdweUM"
   ],
   "provenance": [],
   "toc_visible": true
  },
  "gpuClass": "standard",
  "kernelspec": {
   "display_name": "Python 3 (ipykernel)",
   "language": "python",
   "name": "python3"
  },
  "language_info": {
   "codemirror_mode": {
    "name": "ipython",
    "version": 3
   },
   "file_extension": ".py",
   "mimetype": "text/x-python",
   "name": "python",
   "nbconvert_exporter": "python",
   "pygments_lexer": "ipython3",
   "version": "3.10.5"
  },
  "widgets": {
   "application/vnd.jupyter.widget-state+json": {
    "state": {},
    "version_major": 2,
    "version_minor": 0
   }
  }
 },
 "nbformat": 4,
 "nbformat_minor": 5
}
