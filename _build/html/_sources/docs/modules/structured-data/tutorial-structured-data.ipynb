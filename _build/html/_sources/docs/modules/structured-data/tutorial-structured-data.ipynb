{
 "cells": [
  {
   "cell_type": "markdown",
   "id": "ad79338f-5db0-4d7e-bb49-2ba2a50486d6",
   "metadata": {
    "tags": []
   },
   "source": [
    "# Tutorial (Structured Data Processing)"
   ]
  },
  {
   "cell_type": "markdown",
   "id": "aead8a0a-84e5-4fb1-8c18-db39e2489ec5",
   "metadata": {},
   "source": [
    "This tutorial will familiarize you with the data science pipeline of processing structured data, using a real-world example of building models to predict and explain the presence of bad smell events in Pittsburgh using air quality and weather data (as indicated in the following figure). The models are used to send push notifications about bad smell events to inform citizens, as well as to explain local pollution patterns to inform stakeholders."
   ]
  },
  {
   "cell_type": "markdown",
   "id": "22763ed0-87c0-4377-ae42-5d8f77d69c81",
   "metadata": {},
   "source": [
    "<img src=\"../../../assets/images/smellpgh-predict.png\" style=\"max-width: 800px\">"
   ]
  },
  {
   "cell_type": "markdown",
   "id": "7a50aacf-2e77-4f58-9c1b-8349afabcb3f",
   "metadata": {},
   "source": [
    "The scenario is in the mext section of this tutorial, and more details is in the introduction section of the [Smell Pittsburgh paper](https://doi.org/10.1145/3369397). We will use the [same dataset as used in the Smell Pittsburgh paper](https://github.com/CMU-CREATE-Lab/smell-pittsburgh-prediction/tree/master/dataset/v1) as an example of structured data. During this tutorial, we will explain what the variables in the dataset mean and also guide you through model building."
   ]
  },
  {
   "cell_type": "markdown",
   "id": "837f6204-e1d2-4bcb-adc1-d99bf37e9d57",
   "metadata": {},
   "source": [
    "## Scenario"
   ]
  },
  {
   "cell_type": "markdown",
   "id": "7cbb469a-979c-4fcc-9244-379f219f24ea",
   "metadata": {},
   "source": [
    "Local citizens in Pittsburgh are organizing communities to advocate for changes in air pollution regulations. Their goal is to investigate the air pollution patterns in the city to understand the potential sources related to the bad odor. The communities rely on the Smell Pittsburgh application (as indicated in the figure below) to collect smell reports from citizens that live in the Pittsburgh region. Also, there are air quality and weather monitoring stations in the Pittsburgh city region that provide sensor measurements, including common air pollutants and wind information."
   ]
  },
  {
   "cell_type": "markdown",
   "id": "c6008d48-70b5-4372-89e3-5a8ec7b1cb3b",
   "metadata": {},
   "source": [
    "<img src=\"../../../assets/images/smellpgh-ui.png\" style=\"max-width: 800px\">"
   ]
  },
  {
   "cell_type": "markdown",
   "id": "268281c2-7aee-45b1-b6b2-51b76263f20a",
   "metadata": {},
   "source": [
    "You work in a data science team to develop models that can be suitable to map the sensor data to bad smell events. Your team has been working with the Pittsburgh local citizens closely for a long time, and therefore you know the meaning of each variable in the feature set that is used to train the machine learning model. The Pittsburgh community needs your help timely to analyze the data that can help them present evidence of air pollution to the municipality and explain the patterns to the general public."
   ]
  },
  {
   "cell_type": "markdown",
   "id": "200d9e23-8ffd-417b-b454-ad8f445a89c4",
   "metadata": {},
   "source": [
    "## Tutorial Task 1"
   ]
  },
  {
   "cell_type": "markdown",
   "id": "c3bb5bc7-51cd-4b36-b4b9-79edc961898d",
   "metadata": {},
   "source": [
    "We need to filter the unwanted geographical region. The geographical regions that we use is in Figure 6 in the Smell Pittsburgh paper."
   ]
  },
  {
   "cell_type": "code",
   "execution_count": null,
   "id": "b420a1de-517e-4fc8-94ce-f7821e8056e4",
   "metadata": {},
   "outputs": [],
   "source": []
  }
 ],
 "metadata": {
  "kernelspec": {
   "display_name": "Python 3 (ipykernel)",
   "language": "python",
   "name": "python3"
  },
  "language_info": {
   "codemirror_mode": {
    "name": "ipython",
    "version": 3
   },
   "file_extension": ".py",
   "mimetype": "text/x-python",
   "name": "python",
   "nbconvert_exporter": "python",
   "pygments_lexer": "ipython3",
   "version": "3.10.5"
  }
 },
 "nbformat": 4,
 "nbformat_minor": 5
}
